{
  "nbformat": 4,
  "nbformat_minor": 0,
  "metadata": {
    "colab": {
      "provenance": [],
      "gpuType": "A100"
    },
    "kernelspec": {
      "name": "python3",
      "display_name": "Python 3"
    },
    "language_info": {
      "name": "python"
    },
    "accelerator": "GPU"
  },
  "cells": [
    {
      "cell_type": "code",
      "execution_count": null,
      "metadata": {
        "id": "m9Jn79eXD57R"
      },
      "outputs": [],
      "source": [
        "# necessary library imports\n",
        "%matplotlib inline\n",
        "import torchvision\n",
        "import matplotlib.pyplot as plt\n",
        "import time\n",
        "import torch\n",
        "import warnings\n",
        "warnings.filterwarnings('ignore')"
      ]
    },
    {
      "cell_type": "code",
      "source": [
        "# code to set execution device to cuda, if it is available, otherwise set to 'CPU'\n",
        "device = torch.device('cuda' if torch.cuda.is_available() else 'cpu')\n",
        "print(f'Using {device}.') # displays the device utilized"
      ],
      "metadata": {
        "colab": {
          "base_uri": "https://localhost:8080/"
        },
        "id": "LnHNfWO0JdGP",
        "outputId": "306d0b56-60eb-437a-e3b0-b440d4b15cc7"
      },
      "execution_count": null,
      "outputs": [
        {
          "output_type": "stream",
          "name": "stdout",
          "text": [
            "Using cuda.\n"
          ]
        }
      ]
    },
    {
      "cell_type": "markdown",
      "source": [
        "'CUDA' utilizes 'GPU' for computational processing, it is a parallel computing framework developed by NVIDIA"
      ],
      "metadata": {
        "id": "87QwQLJkcl3p"
      }
    },
    {
      "cell_type": "markdown",
      "source": [
        "## DataSet\n",
        "* The CIFAR10 comprises 60000 small (3 × 32 × 32) color images, each belonging to one of the airplane, automobile, bird, cat, deer, dog, frog, horse, ship and truck; 10 classes. The dataset is divided into  50000 images as training dataset and 10000 images as testing dataset.\n",
        "* The dataset is preprocessed and loaded using $torchvision$ libraries.The preprocessing on the training set involves random horizontal flips and random pixel padding and cropping. Both training and testing datasets are transformed into tensors before loading. The Dataloader library manages batching, random shuffling and loading of training datasets and loading of testing datasets in memory.\n"
      ],
      "metadata": {
        "id": "aTQLZAHe3nNL"
      }
    },
    {
      "cell_type": "code",
      "source": [
        "# UDF to load the CIFAR-10 dataset, apply additional augments with resize if required and then load it in memory\n",
        "def load_data_CIFAR10(batch_size, resize=None):\n",
        "\n",
        "    train_trans = [\n",
        "        torchvision.transforms.RandomHorizontalFlip(), # filps training images horizontally (along its vertical axis) with default probability of 50%\n",
        "        torchvision.transforms.RandomCrop(32, padding=4, padding_mode='reflect'), # apply 4 pixels padding per edge and randomly crops images to 32x32 size\n",
        "        torchvision.transforms.ToTensor() # converts images to tensors\n",
        "    ]\n",
        "    test_trans = [torchvision.transforms.ToTensor()] # converts images to tensors\n",
        "\n",
        "    if resize: # alters train, test image size to mentioned dimensions\n",
        "        train_trans.insert(0, torchvision.transforms.Resize(resize))\n",
        "        test_trans.insert(0, torchvision.transforms.Resize(resize))\n",
        "    train_trans = torchvision.transforms.Compose(train_trans) # stacks augmentation techniques mentioned above in 'train_trans' list sequentially into a single operation\n",
        "    test_trans = torchvision.transforms.Compose(test_trans) # combines transformation mentioned in 'test_trans' in single operation\n",
        "    cifar_train = torchvision.datasets.CIFAR10(root=\"../data\", train=True, transform=train_trans, download=True) # downloads the training dataset and specifies transformations mentioned in 'train_trans'\n",
        "    cifar_test = torchvision.datasets.CIFAR10(root=\"../data\", train=False, transform=test_trans, download=True) # downloads the testing dataset and specifies transformations mentioned in 'test_trans'\n",
        "    return (torch.utils.data.DataLoader(cifar_train, batch_size, shuffle=True, num_workers=2, pin_memory=True), # loads the shuffled cifar_train dataset in pinned memory\n",
        "            torch.utils.data.DataLoader(cifar_test, batch_size, shuffle=False, num_workers=2, pin_memory=True)) # loads the cifar_test data in pinned memory"
      ],
      "metadata": {
        "id": "9VyiGmGIECbA"
      },
      "execution_count": null,
      "outputs": []
    },
    {
      "cell_type": "markdown",
      "source": [
        "\n",
        "Using Data from pinned memory, speed up training in GPU"
      ],
      "metadata": {
        "id": "YRIDjKTVim5U"
      }
    },
    {
      "cell_type": "code",
      "source": [
        "batch_size = 64 # declare value of the batch size\n",
        "train_iter, test_iter = load_data_CIFAR10(batch_size) # load data in defined batch size using UDF load_data_CIFAR10 in 'train_iter' and 'test_iter' objects"
      ],
      "metadata": {
        "colab": {
          "base_uri": "https://localhost:8080/"
        },
        "id": "ZRCsf__nECdC",
        "outputId": "4f57699b-6ac2-4535-f6df-7b0779cef91e"
      },
      "execution_count": null,
      "outputs": [
        {
          "output_type": "stream",
          "name": "stdout",
          "text": [
            "Downloading https://www.cs.toronto.edu/~kriz/cifar-10-python.tar.gz to ../data/cifar-10-python.tar.gz\n"
          ]
        },
        {
          "output_type": "stream",
          "name": "stderr",
          "text": [
            "100%|██████████| 170498071/170498071 [00:13<00:00, 12905639.29it/s]\n"
          ]
        },
        {
          "output_type": "stream",
          "name": "stdout",
          "text": [
            "Extracting ../data/cifar-10-python.tar.gz to ../data\n",
            "Files already downloaded and verified\n"
          ]
        }
      ]
    },
    {
      "cell_type": "code",
      "source": [
        "X, y = next(iter(train_iter)) # retrives first batch of images (X) and its corresponding labels (y)\n",
        "print(X.size()) # 64 images per batch, each of dimension 3x32x32 (channel,height,width), '3' for RGB color channels\n",
        "print(y.size()) # 64 targets, each from the 10 classes, labelled 0 to 9"
      ],
      "metadata": {
        "colab": {
          "base_uri": "https://localhost:8080/"
        },
        "id": "1R3QTst2ECfH",
        "outputId": "0cddcf6d-32c4-4a3a-9509-992cfacbe849"
      },
      "execution_count": null,
      "outputs": [
        {
          "output_type": "stream",
          "name": "stdout",
          "text": [
            "torch.Size([64, 3, 32, 32])\n",
            "torch.Size([64])\n"
          ]
        }
      ]
    },
    {
      "cell_type": "code",
      "source": [
        "from google.colab.patches import cv2_imshow\n",
        "\n",
        "class_labels = ['airplane', 'automobile', 'bird', 'cat', 'deer', 'dog', 'frog', 'horse', 'ship', 'truck'] # given class labels of the CIFAR-10 dataset\n",
        "\n",
        "for i in range(3):\n",
        "    print(f'\\nImage {i} ({class_labels[int(y[i])]}):\\n') # displays 'i'th index and the associated label\n",
        "    cv2_imshow(X[i].numpy().transpose(1, 2, 0) * 255) # displays batch converted 'i'th image"
      ],
      "metadata": {
        "colab": {
          "base_uri": "https://localhost:8080/",
          "height": 266
        },
        "id": "W8caSOWtsaJ8",
        "outputId": "e5120aac-1e9b-4f92-9375-ed5b9dee958d"
      },
      "execution_count": null,
      "outputs": [
        {
          "output_type": "stream",
          "name": "stdout",
          "text": [
            "\n",
            "Image 0 (truck):\n",
            "\n"
          ]
        },
        {
          "output_type": "display_data",
          "data": {
            "text/plain": [
              "<PIL.Image.Image image mode=RGB size=32x32>"
            ],
            "image/png": "[encoded data removed]"
          },
          "metadata": {}
        },
        {
          "output_type": "stream",
          "name": "stdout",
          "text": [
            "\n",
            "Image 1 (frog):\n",
            "\n"
          ]
        },
        {
          "output_type": "display_data",
          "data": {
            "text/plain": [
              "<PIL.Image.Image image mode=RGB size=32x32>"
            ],
            "image/png": "[encoded data removed]"
          },
          "metadata": {}
        },
        {
          "output_type": "stream",
          "name": "stdout",
          "text": [
            "\n",
            "Image 2 (cat):\n",
            "\n"
          ]
        },
        {
          "output_type": "display_data",
          "data": {
            "text/plain": [
              "<PIL.Image.Image image mode=RGB size=32x32>"
            ],
            "image/png": "[encoded data removed]"
          },
          "metadata": {}
        }
      ]
    },
    {
      "cell_type": "markdown",
      "source": [
        "## Basic Block Architecture\n",
        "* A basic block receives an image $x$ and outputs an image $x\\_intermediate$.There are $3$ independent convolutional layers in the block, $c_1, c_2, c_3$. Each convolutional layer $C_i$ in the block receives the $same$ input image $x$ and outputs an image $C_i(x)$. Each output of these layers are combined into the single output tensor $x\\_intermediate$, given by\n",
        "$x\\_intermediate = a_1C_1(x) + a_2C_2(x) + a_3C_3(x)$\n",
        "where $a_1, a_2 ,a_3$ are the components of the vector\\\n",
        "  $\\mathbf{a} = \\begin{bmatrix} a_1 \\\\ a_2 \\\\ a_3 \\end{bmatrix}$\n",
        ".\n",
        "* The vector $a$ is computed by taking the average value of each channel of $x$ (3 for first block) and stored into a $channel-dimensional\\ vector$ 'm'.\n",
        "The obtained vector $m$ is the input to a fully connected layer that outputs the required vector $a$. The fully connected layer $a$ have as many units as there are convolutional layers in the block.\n",
        "\n"
      ],
      "metadata": {
        "id": "P2r6xk74svW6"
      }
    },
    {
      "cell_type": "code",
      "source": [
        "# Code Implements class BasicBlock\n",
        "class BasicBlock(torch.nn.Module):\n",
        "    def __init__(self, in_channels, out_channels, kernel_size, padding):\n",
        "        super(BasicBlock, self).__init__()\n",
        "        self.conv1 = torch.nn.Conv2d(in_channels, out_channels, kernel_size, padding='same') # creates 2D convolution layer with specified parameters\n",
        "        self.bn1 = torch.nn.BatchNorm2d(out_channels) # batch normalisation layer to stabilize lr\n",
        "        self.max1 = torch.nn.MaxPool2d(3, stride=1) # applies Max Pooling layer of 3x3 window size on input images and stride 1\n",
        "        self.relu1 = torch.nn.ReLU() # applies ReLU activation function\n",
        "\n",
        "        self.conv2 = torch.nn.Conv2d(in_channels, out_channels, kernel_size, padding='same')\n",
        "        self.bn2 = torch.nn.BatchNorm2d(out_channels)\n",
        "        self.max2 = torch.nn.MaxPool2d(3, stride=1)\n",
        "        self.relu2 = torch.nn.ReLU()\n",
        "\n",
        "        self.conv3 = torch.nn.Conv2d(in_channels, out_channels, kernel_size, padding='same')\n",
        "        self.bn3 = torch.nn.BatchNorm2d(out_channels)\n",
        "        self.max3 = torch.nn.MaxPool2d(3, stride=1)\n",
        "        self.relu3 = torch.nn.ReLU()\n",
        "\n",
        "        self.linear = torch.nn.Linear(in_channels, 3) # initializes fully connected layer, mapping input channel to 3 outputs\n",
        "        self.Sigmoid = torch.nn.Sigmoid() # applies sigmoid activation function\n",
        "\n",
        "\n",
        "    def forward(self, x): # method defines forward image processing through above initialized architecture, same input 'x' applied on the three convolutional layers simultaneously\n",
        "\n",
        "        c1 = self.conv1(x)\n",
        "        c1 = self.bn1(c1)\n",
        "        c1 = self.max1(c1)\n",
        "        c1 = self.relu1(c1)\n",
        "\n",
        "        c2 = self.conv2(x)\n",
        "        c2 = self.bn1(c2)\n",
        "        c2 = self.max2(c2)\n",
        "        c2 = self.relu2(c2)\n",
        "\n",
        "        c3 = self.conv3(x)\n",
        "        c3 = self.bn1(c3)\n",
        "        c3 = self.max3(c3)\n",
        "        c3 = self.relu3(c3)\n",
        "\n",
        "        m = torch.mean(x, dim=(2, 3)) # computes mean of x over height and width dimensions, tensor 'm' represents avg values of each channel for each image per batch\n",
        "        # dimensions of vector 'm' is ['batch_size', 'in_channels'] i.e [64, 3] (1st block); [64, 96] (2nd block); [64, 256] (3rd Block)\n",
        "        a = self.linear(m) # generates a vetor of dimension [64,3], by applying a fully connected layer on input vector 'm'\n",
        "        a = self.Sigmoid(a) # applies sigmoid activation function on the fully connected layer a's dimension remains same\n",
        "\n",
        "        x_intermediate = a[:, 0, None, None, None]* c1 + a[:, 1, None, None, None]* c2 + a[:, 2, None, None, None]* c3 # represents distinct weighted sum of convolutional layers, multiplied weights are the distinct compontents of vector 'a'\n",
        "\n",
        "        return x_intermediate"
      ],
      "metadata": {
        "id": "PRzLzJIMEChT"
      },
      "execution_count": null,
      "outputs": []
    },
    {
      "cell_type": "markdown",
      "source": [
        "## Output Block Architecture\n",
        "* Output block receives an image $x\\_intermediate$ (output of the last intermediate block) and outputs a $logits$ vector $o$\n",
        "* Not using softmax activation function as CrossEntropyLoss function works on logits vector $o$ not on predicted labels 'y_hat'"
      ],
      "metadata": {
        "id": "ye9M8v6YIvqu"
      }
    },
    {
      "cell_type": "code",
      "source": [
        "# Code Implements class OutputBlock\n",
        "class OutputBlock(torch.nn.Module):\n",
        "    def __init__(self, in_channels, num_classes):\n",
        "        super(OutputBlock, self).__init__()\n",
        "        self.linear = torch.nn.Linear(in_channels, num_classes) # initializes fully connected layer, mapping input channel = 384 to 10 pre-defined classes\n",
        "\n",
        "    def forward(self, x):\n",
        "        m = torch.mean(x, dim = (2,3)) # computes mean of x over height and width dimensions, tensor 'm' represents avg values of each channel for image per batch, m is [64, 384] vector\n",
        "        o = self.linear(m) # generates logits vetor of dimension [64,10], by applying a fully connected layer on input vector 'm'\n",
        "        return o"
      ],
      "metadata": {
        "id": "YV28G7vJECi3"
      },
      "execution_count": null,
      "outputs": []
    },
    {
      "cell_type": "markdown",
      "source": [
        "## Intermediate Block Architecture\n",
        "* The architecture is composed of a sequence of 3 intermediate blocks - block1 (in channels = 3, out channel =96), block2 (in channels = 96, out channel = 256),block3 (in channels = 256, out channel = 384) that are followed by an $OutputBlock$ o.\n",
        "* The input to first block is the input image batches $x$ and the output of the block is the input to the next and so on. The last block's output is input to the $OutputBlock$ o. Thus, the $OutputBlock$ will have input channels = 384 and output channel = 10 $(number\\ of\\ classes)$ \\\\\n",
        "[Block architecture.](https://drive.google.com/file/d/16zvkV-LLuTE2tZ1h5TlDjQ5pBnhrUMR3/view?usp=share_link)\n"
      ],
      "metadata": {
        "id": "QzR_1McOI1aC"
      }
    },
    {
      "cell_type": "code",
      "source": [
        "# Code Implements class IntermediateBlocks\n",
        "class IntermediateBlocks(torch.nn.Module):\n",
        "    def __init__(self, num_classes=10):\n",
        "        super(IntermediateBlocks, self).__init__()\n",
        "        self.block1 = BasicBlock(in_channels=3, out_channels=96, kernel_size=3, padding=1) # initializes first block instance of the architecture with mentioned paramters\n",
        "        self.block2 = BasicBlock(in_channels=96, out_channels=256, kernel_size=3, padding=1) # adds depth to model by initializing second block instance of the architecture with mentioned paramters\n",
        "        self.block3 = BasicBlock(in_channels=256, out_channels= 384, kernel_size=3, padding=1) # initializes instance for the third block with mentioned parameters\n",
        "        self.output = OutputBlock(in_channels=384, num_classes=num_classes) # initializes instance of output block with mentioned parameters\n",
        "\n",
        "    def forward(self, x): # method defines forward image processing through above initialized architecture\n",
        "        x1 = self.block1(x) # applies input image batches of size 64x3x32x32 each to first block\n",
        "        x2 = self.block2(x1) # applies output batches of first block of size 64x96x30x30 each as input to second block\n",
        "        x3 = self.block3(x2) # applies output batches of second block of size 64x256x28x28 each as input to third block\n",
        "        o = self.output(x3) # applies output batches of third block of size 64x384x26x26 each as input to fully connected layer to get output logits 'o[64,10]' for each batch\n",
        "        return o"
      ],
      "metadata": {
        "id": "UPQoN7RpECk3"
      },
      "execution_count": null,
      "outputs": []
    },
    {
      "cell_type": "markdown",
      "source": [
        "## Parameter Initialization\n",
        "* Below UDF initializes parameters of fully connected and convolution layers using 'He' initializer before computing the gradient of the loss w.r.t the parameters for the first time"
      ],
      "metadata": {
        "id": "WN4oYciAMPuM"
      }
    },
    {
      "cell_type": "code",
      "source": [
        "# UDF init_weights applies Kaiming initialization if the 'torch.nn.Module' is 'torch.nn.Conv2d' or  'torch.nn.Linear'\n",
        "def init_weights(m):\n",
        "  if type(m) == torch.nn.Linear or type(m) == torch.nn.Conv2d:\n",
        "    torch.nn.init.kaiming_uniform_(m.weight)"
      ],
      "metadata": {
        "id": "S-9c_tapECnN"
      },
      "execution_count": null,
      "outputs": []
    },
    {
      "cell_type": "code",
      "source": [
        "model = IntermediateBlocks(num_classes=10).to(device) # creates an instance 'model' of the IntermediateBlocks with number of classifiers(10) and moves the model to 'device'\n",
        "model.apply(init_weights) # applies'init_weights' to 'torch.nn.Module' inside 'model'"
      ],
      "metadata": {
        "colab": {
          "base_uri": "https://localhost:8080/"
        },
        "id": "qn85SV3wECpU",
        "outputId": "0ec5f006-f906-42a8-c0dd-c425dcab288b"
      },
      "execution_count": null,
      "outputs": [
        {
          "output_type": "execute_result",
          "data": {
            "text/plain": [
              "IntermediateBlocks(\n",
              "  (block1): BasicBlock(\n",
              "    (conv1): Conv2d(3, 96, kernel_size=(3, 3), stride=(1, 1), padding=same)\n",
              "    (bn1): BatchNorm2d(96, eps=1e-05, momentum=0.1, affine=True, track_running_stats=True)\n",
              "    (max1): MaxPool2d(kernel_size=3, stride=1, padding=0, dilation=1, ceil_mode=False)\n",
              "    (relu1): ReLU()\n",
              "    (conv2): Conv2d(3, 96, kernel_size=(3, 3), stride=(1, 1), padding=same)\n",
              "    (bn2): BatchNorm2d(96, eps=1e-05, momentum=0.1, affine=True, track_running_stats=True)\n",
              "    (max2): MaxPool2d(kernel_size=3, stride=1, padding=0, dilation=1, ceil_mode=False)\n",
              "    (relu2): ReLU()\n",
              "    (conv3): Conv2d(3, 96, kernel_size=(3, 3), stride=(1, 1), padding=same)\n",
              "    (bn3): BatchNorm2d(96, eps=1e-05, momentum=0.1, affine=True, track_running_stats=True)\n",
              "    (max3): MaxPool2d(kernel_size=3, stride=1, padding=0, dilation=1, ceil_mode=False)\n",
              "    (relu3): ReLU()\n",
              "    (linear): Linear(in_features=3, out_features=3, bias=True)\n",
              "    (Sigmoid): Sigmoid()\n",
              "  )\n",
              "  (block2): BasicBlock(\n",
              "    (conv1): Conv2d(96, 256, kernel_size=(3, 3), stride=(1, 1), padding=same)\n",
              "    (bn1): BatchNorm2d(256, eps=1e-05, momentum=0.1, affine=True, track_running_stats=True)\n",
              "    (max1): MaxPool2d(kernel_size=3, stride=1, padding=0, dilation=1, ceil_mode=False)\n",
              "    (relu1): ReLU()\n",
              "    (conv2): Conv2d(96, 256, kernel_size=(3, 3), stride=(1, 1), padding=same)\n",
              "    (bn2): BatchNorm2d(256, eps=1e-05, momentum=0.1, affine=True, track_running_stats=True)\n",
              "    (max2): MaxPool2d(kernel_size=3, stride=1, padding=0, dilation=1, ceil_mode=False)\n",
              "    (relu2): ReLU()\n",
              "    (conv3): Conv2d(96, 256, kernel_size=(3, 3), stride=(1, 1), padding=same)\n",
              "    (bn3): BatchNorm2d(256, eps=1e-05, momentum=0.1, affine=True, track_running_stats=True)\n",
              "    (max3): MaxPool2d(kernel_size=3, stride=1, padding=0, dilation=1, ceil_mode=False)\n",
              "    (relu3): ReLU()\n",
              "    (linear): Linear(in_features=96, out_features=3, bias=True)\n",
              "    (Sigmoid): Sigmoid()\n",
              "  )\n",
              "  (block3): BasicBlock(\n",
              "    (conv1): Conv2d(256, 384, kernel_size=(3, 3), stride=(1, 1), padding=same)\n",
              "    (bn1): BatchNorm2d(384, eps=1e-05, momentum=0.1, affine=True, track_running_stats=True)\n",
              "    (max1): MaxPool2d(kernel_size=3, stride=1, padding=0, dilation=1, ceil_mode=False)\n",
              "    (relu1): ReLU()\n",
              "    (conv2): Conv2d(256, 384, kernel_size=(3, 3), stride=(1, 1), padding=same)\n",
              "    (bn2): BatchNorm2d(384, eps=1e-05, momentum=0.1, affine=True, track_running_stats=True)\n",
              "    (max2): MaxPool2d(kernel_size=3, stride=1, padding=0, dilation=1, ceil_mode=False)\n",
              "    (relu2): ReLU()\n",
              "    (conv3): Conv2d(256, 384, kernel_size=(3, 3), stride=(1, 1), padding=same)\n",
              "    (bn3): BatchNorm2d(384, eps=1e-05, momentum=0.1, affine=True, track_running_stats=True)\n",
              "    (max3): MaxPool2d(kernel_size=3, stride=1, padding=0, dilation=1, ceil_mode=False)\n",
              "    (relu3): ReLU()\n",
              "    (linear): Linear(in_features=256, out_features=3, bias=True)\n",
              "    (Sigmoid): Sigmoid()\n",
              "  )\n",
              "  (output): OutputBlock(\n",
              "    (linear): Linear(in_features=384, out_features=10, bias=True)\n",
              "  )\n",
              ")"
            ]
          },
          "metadata": {},
          "execution_count": 11
        }
      ]
    },
    {
      "cell_type": "markdown",
      "source": [
        "## Loss Function\n",
        "* To calculate the cross entropy loss function, created an instance 'loss' of the class 'CrossEntropyLoss'\n",
        "* Since the function implements the desired cross entropy loss, it requires a logits vector $o$ and not predicted labels 'y_hat', hence not using softmax activation function in the Output Block"
      ],
      "metadata": {
        "id": "btplW8ThXUze"
      }
    },
    {
      "cell_type": "code",
      "source": [
        "loss = torch.nn.CrossEntropyLoss() # initializes cross entropy loss function"
      ],
      "metadata": {
        "id": "ZQ1h22_8ECrY"
      },
      "execution_count": null,
      "outputs": []
    },
    {
      "cell_type": "markdown",
      "source": [
        "## Model Performance Improvement Techniques - Optimizer and Schedular\n",
        "* Deployed AdamW with a learning rate of 0.002 and weight decay 0f 0.001 as optimization algorithm.\n",
        "* As a subclass of 'torch.nn.Module' is declared in the model, the model parameters can be accessed through the method 'parameters'.\n",
        "* Deployed StepLR schedular on the optimizer , with step size of 20 and the reduction rate 'gamma' is 0.1 or 10%"
      ],
      "metadata": {
        "id": "9MM4WaetMB90"
      }
    },
    {
      "cell_type": "code",
      "source": [
        "lr = 2e-3 # initial learning rate\n",
        "optimizer = torch.optim.AdamW(model.parameters(), lr=lr, weight_decay = 1e-3) # initializes AdamW optimizer with weight decay\n",
        "schedular = torch.optim.lr_scheduler.StepLR(optimizer, step_size= 20, gamma=0.1) # initialises lr scheduler StepLR, to reduce the lr by 10% in steps of 20 epochs"
      ],
      "metadata": {
        "id": "QXGuBaVWECtJ"
      },
      "execution_count": null,
      "outputs": []
    },
    {
      "cell_type": "markdown",
      "source": [
        "## Evaluation\n",
        "* Below UDF calculates the logits vector for each row of each batch to determine predicted class of each image.\n",
        "* The total correct predicted images can be calculated per batch"
      ],
      "metadata": {
        "id": "dhci6P4-TBMb"
      }
    },
    {
      "cell_type": "code",
      "source": [
        "# UDF to calculate total number of correct predictions\n",
        "def correct(logits, y):\n",
        "    y_hat = logits.argmax(axis=1) # searches for a column with maximum value for each row of the 'logits' vector obtained from the model\n",
        "    return (y_hat == y).float().sum() # computes total number of times prediction is correct i.e 'y_hat' and 'y' are same"
      ],
      "metadata": {
        "id": "ApXylTE3ECu9"
      },
      "execution_count": null,
      "outputs": []
    },
    {
      "cell_type": "markdown",
      "source": [
        "* From the correct predicted image calculated above we can calculate the accuracy of the model by dividing their sum by the total number of actual labels in the dataset."
      ],
      "metadata": {
        "id": "DM1M5-nAWI6v"
      }
    },
    {
      "cell_type": "code",
      "source": [
        "# UDF to compute the average of correct prediction (accuracy) of the model\n",
        "def evaluate_metric(model, data_iter, metric):\n",
        "    c = 0.\n",
        "    n = 0.\n",
        "    for X, y in data_iter:\n",
        "        X, y = X.to(device), y.to(device) # move the tensors and labels to 'device' (cuda)\n",
        "        logits = model(X) # applies model on input tensors batch to get corresponding logits\n",
        "        c += metric(logits, y) # sums the correct prediction of classes\n",
        "        n += len(y) # calculates the total labels\n",
        "\n",
        "    return float(c / n) # calculates the average to get the accuracy"
      ],
      "metadata": {
        "id": "PvVCVUmWF5vF"
      },
      "execution_count": null,
      "outputs": []
    },
    {
      "cell_type": "code",
      "source": [
        "# model accuracy without Gradient Descent\n",
        "print(f'Training accuracy: {evaluate_metric(model, train_iter, correct)}. Testing accuracy: {evaluate_metric(model, test_iter, correct)}.')"
      ],
      "metadata": {
        "id": "VXuI9s51F5xY",
        "colab": {
          "base_uri": "https://localhost:8080/"
        },
        "outputId": "3ab3fc1d-ac79-43b1-fd36-db47d979eb58"
      },
      "execution_count": null,
      "outputs": [
        {
          "output_type": "stream",
          "name": "stdout",
          "text": [
            "Training accuracy: 0.11289999634027481. Testing accuracy: 0.11189999431371689.\n"
          ]
        }
      ]
    },
    {
      "cell_type": "markdown",
      "source": [
        "## Training\n",
        "\n",
        "* Below code implements the training loop for the model.\n",
        "\n",
        "* The training, testing dataset accuracy and training losses are displayed after for each epoch and training, testing accuracy and loss per training batch is stored as a list for plotting."
      ],
      "metadata": {
        "id": "kxrGPeXHMyYr"
      }
    },
    {
      "cell_type": "code",
      "source": [
        "losses_per_train_batch = [] # stores the losses each training batch in an ordered list\n",
        "train_accuracy = [] # stores the train data accuracy for each batch in an ordered list\n",
        "test_accuracy = [] # stores the test data accuracy for each batch in an ordered list\n",
        "num_epochs = 45\n",
        "for epoch in range(num_epochs):\n",
        "    print(f'\\nEpoch {epoch + 1}/{num_epochs}.')\n",
        "\n",
        "    for X, y in train_iter:\n",
        "        X, y = X.to(device), y.to(device) # move the tensors and labels to 'device' (cuda)\n",
        "        logits = model(X) # applies model on input tensors batch 'X' to get corresponding logits\n",
        "\n",
        "        l = loss(logits, y) # computes the entropy loss for the calculated 'logits' vector and the pre-defined class vector 'y'\n",
        "        optimizer.zero_grad() # resets the previous stored gradients in the model parameters\n",
        "        l.backward() # computes the gradient of the loss 'l' with respect to the model parameters\n",
        "\n",
        "        optimizer.step() # updates the model parameters based on the gradients obtained from the previous step\n",
        "\n",
        "        losses_per_train_batch.append(float(l)) # store the losses obtained in every batch in losses_per_train_batch by appending the list\n",
        "\n",
        "    schedular.step() # decays the learning rate after specific epoch (declared during its initialisation)\n",
        "\n",
        "    with torch.no_grad(): # computes performance metrics without tracking gradients\n",
        "        train_accuracy.append(evaluate_metric(model, train_iter, correct))\n",
        "        test_accuracy.append(evaluate_metric(model, test_iter, correct))\n",
        "\n",
        "        print(f'Training accuracy: {train_accuracy[-1]}. Testing accuracy: {test_accuracy[-1]}. Training losses:{losses_per_train_batch[-1]}') # computes and displays training/testing dataset accuracy and training losses\n"
      ],
      "metadata": {
        "colab": {
          "base_uri": "https://localhost:8080/"
        },
        "id": "w2szSOB1F5zn",
        "outputId": "20d89073-c6c7-469b-eae8-a15da1121e9b"
      },
      "execution_count": null,
      "outputs": [
        {
          "output_type": "stream",
          "name": "stdout",
          "text": [
            "\n",
            "Epoch 1/45.\n",
            "Training accuracy: 0.5740199685096741. Testing accuracy: 0.5756999850273132. Training losses:1.5863170623779297\n",
            "\n",
            "Epoch 2/45.\n",
            "Training accuracy: 0.6204800009727478. Testing accuracy: 0.6254000067710876. Training losses:0.8102722764015198\n",
            "\n",
            "Epoch 3/45.\n",
            "Training accuracy: 0.6566799879074097. Testing accuracy: 0.656499981880188. Training losses:0.9150891304016113\n",
            "\n",
            "Epoch 4/45.\n",
            "Training accuracy: 0.7001599669456482. Testing accuracy: 0.699999988079071. Training losses:1.0164601802825928\n",
            "\n",
            "Epoch 5/45.\n",
            "Training accuracy: 0.707859992980957. Testing accuracy: 0.7073999643325806. Training losses:1.178362250328064\n",
            "\n",
            "Epoch 6/45.\n",
            "Training accuracy: 0.738860011100769. Testing accuracy: 0.7312999963760376. Training losses:1.0295145511627197\n",
            "\n",
            "Epoch 7/45.\n",
            "Training accuracy: 0.7604199647903442. Testing accuracy: 0.7479999661445618. Training losses:0.9663805961608887\n",
            "\n",
            "Epoch 8/45.\n",
            "Training accuracy: 0.7759400010108948. Testing accuracy: 0.7639999985694885. Training losses:0.2752150297164917\n",
            "\n",
            "Epoch 9/45.\n",
            "Training accuracy: 0.7877399921417236. Testing accuracy: 0.7752000093460083. Training losses:0.4193476438522339\n",
            "\n",
            "Epoch 10/45.\n",
            "Training accuracy: 0.7974799871444702. Testing accuracy: 0.7811999917030334. Training losses:0.6679568886756897\n",
            "\n",
            "Epoch 11/45.\n",
            "Training accuracy: 0.8077600002288818. Testing accuracy: 0.7929999828338623. Training losses:0.8489755988121033\n",
            "\n",
            "Epoch 12/45.\n",
            "Training accuracy: 0.8217799663543701. Testing accuracy: 0.7999999523162842. Training losses:0.8958780169487\n",
            "\n",
            "Epoch 13/45.\n",
            "Training accuracy: 0.8247599601745605. Testing accuracy: 0.7954999804496765. Training losses:0.5949987769126892\n",
            "\n",
            "Epoch 14/45.\n",
            "Training accuracy: 0.8387599587440491. Testing accuracy: 0.8078999519348145. Training losses:0.45827311277389526\n",
            "\n",
            "Epoch 15/45.\n",
            "Training accuracy: 0.838919997215271. Testing accuracy: 0.8062999844551086. Training losses:0.3717002272605896\n",
            "\n",
            "Epoch 16/45.\n",
            "Training accuracy: 0.8497799634933472. Testing accuracy: 0.8136999607086182. Training losses:0.47335872054100037\n",
            "\n",
            "Epoch 17/45.\n",
            "Training accuracy: 0.85589998960495. Testing accuracy: 0.8208000063896179. Training losses:0.23932628333568573\n",
            "\n",
            "Epoch 18/45.\n",
            "Training accuracy: 0.8634600043296814. Testing accuracy: 0.8222999572753906. Training losses:0.3707616925239563\n",
            "\n",
            "Epoch 19/45.\n",
            "Training accuracy: 0.8672999739646912. Testing accuracy: 0.8251999616622925. Training losses:0.13568657636642456\n",
            "\n",
            "Epoch 20/45.\n",
            "Training accuracy: 0.873420000076294. Testing accuracy: 0.8270999789237976. Training losses:0.6273393630981445\n",
            "\n",
            "Epoch 21/45.\n",
            "Training accuracy: 0.9120199680328369. Testing accuracy: 0.8526999950408936. Training losses:0.25412094593048096\n",
            "\n",
            "Epoch 22/45.\n",
            "Training accuracy: 0.9159799814224243. Testing accuracy: 0.8560999631881714. Training losses:0.29799699783325195\n",
            "\n",
            "Epoch 23/45.\n",
            "Training accuracy: 0.9193999767303467. Testing accuracy: 0.8551999926567078. Training losses:0.477872759103775\n",
            "\n",
            "Epoch 24/45.\n",
            "Training accuracy: 0.9221599698066711. Testing accuracy: 0.8583999872207642. Training losses:0.2709529399871826\n",
            "\n",
            "Epoch 25/45.\n",
            "Training accuracy: 0.9245399832725525. Testing accuracy: 0.8569999933242798. Training losses:0.23331968486309052\n",
            "\n",
            "Epoch 26/45.\n",
            "Training accuracy: 0.9248799681663513. Testing accuracy: 0.8603999614715576. Training losses:0.3591461777687073\n",
            "\n",
            "Epoch 27/45.\n",
            "Training accuracy: 0.9254999756813049. Testing accuracy: 0.8587999939918518. Training losses:0.2710740268230438\n",
            "\n",
            "Epoch 28/45.\n",
            "Training accuracy: 0.9264799952507019. Testing accuracy: 0.857699990272522. Training losses:0.10688908398151398\n",
            "\n",
            "Epoch 29/45.\n",
            "Training accuracy: 0.9291399717330933. Testing accuracy: 0.8592000007629395. Training losses:1.1516355276107788\n",
            "\n",
            "Epoch 30/45.\n",
            "Training accuracy: 0.9327999949455261. Testing accuracy: 0.8606999516487122. Training losses:0.45917147397994995\n",
            "\n",
            "Epoch 31/45.\n",
            "Training accuracy: 0.9293199777603149. Testing accuracy: 0.857699990272522. Training losses:0.23972733318805695\n",
            "\n",
            "Epoch 32/45.\n",
            "Training accuracy: 0.9332999587059021. Testing accuracy: 0.8569999933242798. Training losses:0.3345640003681183\n",
            "\n",
            "Epoch 33/45.\n",
            "Training accuracy: 0.935699999332428. Testing accuracy: 0.8621000051498413. Training losses:0.4471251666545868\n",
            "\n",
            "Epoch 34/45.\n",
            "Training accuracy: 0.9370200037956238. Testing accuracy: 0.8603999614715576. Training losses:0.0751722902059555\n",
            "\n",
            "Epoch 35/45.\n",
            "Training accuracy: 0.9390400052070618. Testing accuracy: 0.8624999523162842. Training losses:0.1822321116924286\n",
            "\n",
            "Epoch 36/45.\n",
            "Training accuracy: 0.9395599961280823. Testing accuracy: 0.8625999689102173. Training losses:0.15709029138088226\n",
            "\n",
            "Epoch 37/45.\n",
            "Training accuracy: 0.942639946937561. Testing accuracy: 0.8626999855041504. Training losses:0.5158570408821106\n",
            "\n",
            "Epoch 38/45.\n",
            "Training accuracy: 0.9419199824333191. Testing accuracy: 0.8641999959945679. Training losses:0.2522508502006531\n",
            "\n",
            "Epoch 39/45.\n",
            "Training accuracy: 0.9415599703788757. Testing accuracy: 0.8601999878883362. Training losses:0.7523941397666931\n",
            "\n",
            "Epoch 40/45.\n",
            "Training accuracy: 0.9428399801254272. Testing accuracy: 0.8610000014305115. Training losses:0.4661690592765808\n",
            "\n",
            "Epoch 41/45.\n",
            "Training accuracy: 0.9457799792289734. Testing accuracy: 0.8632999658584595. Training losses:0.8002802133560181\n",
            "\n",
            "Epoch 42/45.\n",
            "Training accuracy: 0.9468799829483032. Testing accuracy: 0.8649999499320984. Training losses:0.36981141567230225\n",
            "\n",
            "Epoch 43/45.\n",
            "Training accuracy: 0.9472399950027466. Testing accuracy: 0.8658999800682068. Training losses:0.13975878059864044\n",
            "\n",
            "Epoch 44/45.\n",
            "Training accuracy: 0.948419988155365. Testing accuracy: 0.8644999861717224. Training losses:0.2923482656478882\n",
            "\n",
            "Epoch 45/45.\n",
            "Training accuracy: 0.9479999542236328. Testing accuracy: 0.8655999898910522. Training losses:0.31394386291503906\n"
          ]
        }
      ]
    },
    {
      "cell_type": "markdown",
      "source": [
        "## Plots\n",
        "* From the training loss per epoch data obtained in previous step, the plot of the loss per training batch is obtained.\n",
        "* The training and testing accuracy variation per epoch is also plotted for observation."
      ],
      "metadata": {
        "id": "emrttLbWMpPd"
      }
    },
    {
      "cell_type": "code",
      "source": [
        "# Plots of Required graphs\n",
        "plt.plot(losses_per_train_batch, color='lightgreen') # plots the loss for each training batch using the list 'losses_per_train_batch'\n",
        "plt.xlabel('Training batch')\n",
        "plt.ylabel('Cross entropy loss')\n",
        "plt.show()\n",
        "\n",
        "plt.plot(train_accuracy, label='Training accuracy', color='peru') # plots the trainning accuracy after each epoch\n",
        "plt.plot(test_accuracy, label='Testing accuracy', color='lightgreen') # plots the test accuracy after each epoch\n",
        "plt.legend(loc='best')\n",
        "plt.xlabel('Epoch')\n",
        "plt.show()"
      ],
      "metadata": {
        "id": "2WnyaQIpF52K",
        "colab": {
          "base_uri": "https://localhost:8080/",
          "height": 881
        },
        "outputId": "594386d8-c526-4842-bb0c-1a36baf7ab32"
      },
      "execution_count": null,
      "outputs": [
        {
          "output_type": "display_data",
          "data": {
            "text/plain": [
              "<Figure size 640x480 with 1 Axes>"
            ],
            "image/png": "[encoded data removed]"
          },
          "metadata": {}
        },
        {
          "output_type": "display_data",
          "data": {
            "text/plain": [
              "<Figure size 640x480 with 1 Axes>"
            ],
            "image/png": "[encoded data removed]"
          },
          "metadata": {}
        }
      ]
    },
    {
      "cell_type": "code",
      "source": [],
      "metadata": {
        "id": "PMzZzqdUF56c"
      },
      "execution_count": null,
      "outputs": []
    },
    {
      "cell_type": "code",
      "source": [],
      "metadata": {
        "id": "OOYSjuDLF58m"
      },
      "execution_count": null,
      "outputs": []
    },
    {
      "cell_type": "code",
      "source": [],
      "metadata": {
        "id": "RhZtMW9NECxN"
      },
      "execution_count": null,
      "outputs": []
    }
  ]
}