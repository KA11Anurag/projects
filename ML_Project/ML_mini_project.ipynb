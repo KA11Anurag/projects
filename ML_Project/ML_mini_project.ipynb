{
 "cells": [
  {
   "cell_type": "markdown",
   "id": "221a66ea",
   "metadata": {},
   "source": [
    "# 1 Author\n",
    "\n",
    "**Student Name : Kumar Ankur Anurag** \n"
   ]
  },
  {
   "cell_type": "markdown",
   "id": "476d6d52",
   "metadata": {},
   "source": [
    "# 2 Problem formulation\n",
    "\n",
    "Using the entire ML Yummy dataset to build a model that takes the image and ingredients of a dish as Input and predicts whether the dish contains ingredients that cause common food allergy (categorised as contains_allergens in my model) or not (categorised as doesnot_contains_allergen in my model). The common food ingredient allergens list is obtained from the NHS website https://www.nhs.uk/conditions/food-allergy/"
   ]
  },
  {
   "cell_type": "markdown",
   "id": "7ca09476",
   "metadata": {},
   "source": [
    "# 3 Machine Learning pipeline\n",
    "\n",
    "**1.** Data pre-processing: The entire dataset is downloaded from the git repository and **split** into the **train, test set**, where each set consists of **a path to image file**, stored in **X_train_paths, X_test_paths** and **'Ingredients', 'Dish_name' text data stored in X_train, X_test**; I have **added another column 'allergens'** which contains the **labels contains_allergens/doesnot_contains_allergen based on the ingredients of the dish**. The 'allergens' column is **encoded (0 -\"contains_allergens\" and 1-\"doesnot_contains_allergen\")**, serving as my label(Y_train,Y_test) for both X_train and X_test datasets."
   ]
  },
  {
   "cell_type": "code",
   "execution_count": 157,
   "id": "9775bf9b",
   "metadata": {},
   "outputs": [
    {
     "data": {
      "text/html": [
       "<style>#sk-container-id-23 {color: black;background-color: white;}#sk-container-id-23 pre{padding: 0;}#sk-container-id-23 div.sk-toggleable {background-color: white;}#sk-container-id-23 label.sk-toggleable__label {cursor: pointer;display: block;width: 100%;margin-bottom: 0;padding: 0.3em;box-sizing: border-box;text-align: center;}#sk-container-id-23 label.sk-toggleable__label-arrow:before {content: \"▸\";float: left;margin-right: 0.25em;color: #696969;}#sk-container-id-23 label.sk-toggleable__label-arrow:hover:before {color: black;}#sk-container-id-23 div.sk-estimator:hover label.sk-toggleable__label-arrow:before {color: black;}#sk-container-id-23 div.sk-toggleable__content {max-height: 0;max-width: 0;overflow: hidden;text-align: left;background-color: #f0f8ff;}#sk-container-id-23 div.sk-toggleable__content pre {margin: 0.2em;color: black;border-radius: 0.25em;background-color: #f0f8ff;}#sk-container-id-23 input.sk-toggleable__control:checked~div.sk-toggleable__content {max-height: 200px;max-width: 100%;overflow: auto;}#sk-container-id-23 input.sk-toggleable__control:checked~label.sk-toggleable__label-arrow:before {content: \"▾\";}#sk-container-id-23 div.sk-estimator input.sk-toggleable__control:checked~label.sk-toggleable__label {background-color: #d4ebff;}#sk-container-id-23 div.sk-label input.sk-toggleable__control:checked~label.sk-toggleable__label {background-color: #d4ebff;}#sk-container-id-23 input.sk-hidden--visually {border: 0;clip: rect(1px 1px 1px 1px);clip: rect(1px, 1px, 1px, 1px);height: 1px;margin: -1px;overflow: hidden;padding: 0;position: absolute;width: 1px;}#sk-container-id-23 div.sk-estimator {font-family: monospace;background-color: #f0f8ff;border: 1px dotted black;border-radius: 0.25em;box-sizing: border-box;margin-bottom: 0.5em;}#sk-container-id-23 div.sk-estimator:hover {background-color: #d4ebff;}#sk-container-id-23 div.sk-parallel-item::after {content: \"\";width: 100%;border-bottom: 1px solid gray;flex-grow: 1;}#sk-container-id-23 div.sk-label:hover label.sk-toggleable__label {background-color: #d4ebff;}#sk-container-id-23 div.sk-serial::before {content: \"\";position: absolute;border-left: 1px solid gray;box-sizing: border-box;top: 0;bottom: 0;left: 50%;z-index: 0;}#sk-container-id-23 div.sk-serial {display: flex;flex-direction: column;align-items: center;background-color: white;padding-right: 0.2em;padding-left: 0.2em;position: relative;}#sk-container-id-23 div.sk-item {position: relative;z-index: 1;}#sk-container-id-23 div.sk-parallel {display: flex;align-items: stretch;justify-content: center;background-color: white;position: relative;}#sk-container-id-23 div.sk-item::before, #sk-container-id-23 div.sk-parallel-item::before {content: \"\";position: absolute;border-left: 1px solid gray;box-sizing: border-box;top: 0;bottom: 0;left: 50%;z-index: -1;}#sk-container-id-23 div.sk-parallel-item {display: flex;flex-direction: column;z-index: 1;position: relative;background-color: white;}#sk-container-id-23 div.sk-parallel-item:first-child::after {align-self: flex-end;width: 50%;}#sk-container-id-23 div.sk-parallel-item:last-child::after {align-self: flex-start;width: 50%;}#sk-container-id-23 div.sk-parallel-item:only-child::after {width: 0;}#sk-container-id-23 div.sk-dashed-wrapped {border: 1px dashed gray;margin: 0 0.4em 0.5em 0.4em;box-sizing: border-box;padding-bottom: 0.4em;background-color: white;}#sk-container-id-23 div.sk-label label {font-family: monospace;font-weight: bold;display: inline-block;line-height: 1.2em;}#sk-container-id-23 div.sk-label-container {text-align: center;}#sk-container-id-23 div.sk-container {/* jupyter's `normalize.less` sets `[hidden] { display: none; }` but bootstrap.min.css set `[hidden] { display: none !important; }` so we also need the `!important` here to be able to override the default hidden behavior on the sphinx rendered scikit-learn.org. See: https://github.com/scikit-learn/scikit-learn/issues/21755 */display: inline-block !important;position: relative;}#sk-container-id-23 div.sk-text-repr-fallback {display: none;}</style><div id=\"sk-container-id-23\" class=\"sk-top-container\"><div class=\"sk-text-repr-fallback\"><pre>Pipeline(steps=[(&#x27;image_pre_process&#x27;,\n",
       "                 FunctionTransformer(func=&lt;function pre_processed at 0x1469a4a40&gt;)),\n",
       "                (&#x27;image_feature_selection&#x27;,\n",
       "                 FunctionTransformer(func=&lt;function feature_extraction at 0x1426b0f40&gt;))])</pre><b>In a Jupyter environment, please rerun this cell to show the HTML representation or trust the notebook. <br />On GitHub, the HTML representation is unable to render, please try loading this page with nbviewer.org.</b></div><div class=\"sk-container\" hidden><div class=\"sk-item sk-dashed-wrapped\"><div class=\"sk-label-container\"><div class=\"sk-label sk-toggleable\"><input class=\"sk-toggleable__control sk-hidden--visually\" id=\"sk-estimator-id-68\" type=\"checkbox\" ><label for=\"sk-estimator-id-68\" class=\"sk-toggleable__label sk-toggleable__label-arrow\">Pipeline</label><div class=\"sk-toggleable__content\"><pre>Pipeline(steps=[(&#x27;image_pre_process&#x27;,\n",
       "                 FunctionTransformer(func=&lt;function pre_processed at 0x1469a4a40&gt;)),\n",
       "                (&#x27;image_feature_selection&#x27;,\n",
       "                 FunctionTransformer(func=&lt;function feature_extraction at 0x1426b0f40&gt;))])</pre></div></div></div><div class=\"sk-serial\"><div class=\"sk-item\"><div class=\"sk-estimator sk-toggleable\"><input class=\"sk-toggleable__control sk-hidden--visually\" id=\"sk-estimator-id-69\" type=\"checkbox\" ><label for=\"sk-estimator-id-69\" class=\"sk-toggleable__label sk-toggleable__label-arrow\">FunctionTransformer</label><div class=\"sk-toggleable__content\"><pre>FunctionTransformer(func=&lt;function pre_processed at 0x1469a4a40&gt;)</pre></div></div></div><div class=\"sk-item\"><div class=\"sk-estimator sk-toggleable\"><input class=\"sk-toggleable__control sk-hidden--visually\" id=\"sk-estimator-id-70\" type=\"checkbox\" ><label for=\"sk-estimator-id-70\" class=\"sk-toggleable__label sk-toggleable__label-arrow\">FunctionTransformer</label><div class=\"sk-toggleable__content\"><pre>FunctionTransformer(func=&lt;function feature_extraction at 0x1426b0f40&gt;)</pre></div></div></div></div></div></div></div>"
      ],
      "text/plain": [
       "Pipeline(steps=[('image_pre_process',\n",
       "                 FunctionTransformer(func=<function pre_processed at 0x1469a4a40>)),\n",
       "                ('image_feature_selection',\n",
       "                 FunctionTransformer(func=<function feature_extraction at 0x1426b0f40>))])"
      ]
     },
     "execution_count": 157,
     "metadata": {},
     "output_type": "execute_result"
    }
   ],
   "source": [
    "image_processing_pipeline"
   ]
  },
  {
   "cell_type": "markdown",
   "id": "194558f0",
   "metadata": {},
   "source": [
    "**2.a.** The **first Function transformer is the pre-processor**, where I modify the image by adding Black colour(without changing the aspect ratio) to **make it square, then resizing it to 200x200 pixels**. The **input** to this stage is the **path where the images are stored (X_train_paths)** and returns **an array of resized images**. \\\n",
    "**2.b.** The **second Function transformer is used for feature extraction**; I'm using the **Gabor filter and GMLC features** for image texture feature extraction. The **input** to this stage is **the pre-processed images**, and the function returns **features dimensionally reduced (to 6 features in new predictor space) in a numpy array representing features in numerical format**.\n",
    "*The exact process is followed for X_test_paths in both transformers but instead of again fitting it to the transformer, we just transform the data based on the fitting parameters of the train dataset*"
   ]
  },
  {
   "cell_type": "code",
   "execution_count": 158,
   "id": "2d3925f5",
   "metadata": {},
   "outputs": [
    {
     "data": {
      "text/html": [
       "<style>#sk-container-id-24 {color: black;background-color: white;}#sk-container-id-24 pre{padding: 0;}#sk-container-id-24 div.sk-toggleable {background-color: white;}#sk-container-id-24 label.sk-toggleable__label {cursor: pointer;display: block;width: 100%;margin-bottom: 0;padding: 0.3em;box-sizing: border-box;text-align: center;}#sk-container-id-24 label.sk-toggleable__label-arrow:before {content: \"▸\";float: left;margin-right: 0.25em;color: #696969;}#sk-container-id-24 label.sk-toggleable__label-arrow:hover:before {color: black;}#sk-container-id-24 div.sk-estimator:hover label.sk-toggleable__label-arrow:before {color: black;}#sk-container-id-24 div.sk-toggleable__content {max-height: 0;max-width: 0;overflow: hidden;text-align: left;background-color: #f0f8ff;}#sk-container-id-24 div.sk-toggleable__content pre {margin: 0.2em;color: black;border-radius: 0.25em;background-color: #f0f8ff;}#sk-container-id-24 input.sk-toggleable__control:checked~div.sk-toggleable__content {max-height: 200px;max-width: 100%;overflow: auto;}#sk-container-id-24 input.sk-toggleable__control:checked~label.sk-toggleable__label-arrow:before {content: \"▾\";}#sk-container-id-24 div.sk-estimator input.sk-toggleable__control:checked~label.sk-toggleable__label {background-color: #d4ebff;}#sk-container-id-24 div.sk-label input.sk-toggleable__control:checked~label.sk-toggleable__label {background-color: #d4ebff;}#sk-container-id-24 input.sk-hidden--visually {border: 0;clip: rect(1px 1px 1px 1px);clip: rect(1px, 1px, 1px, 1px);height: 1px;margin: -1px;overflow: hidden;padding: 0;position: absolute;width: 1px;}#sk-container-id-24 div.sk-estimator {font-family: monospace;background-color: #f0f8ff;border: 1px dotted black;border-radius: 0.25em;box-sizing: border-box;margin-bottom: 0.5em;}#sk-container-id-24 div.sk-estimator:hover {background-color: #d4ebff;}#sk-container-id-24 div.sk-parallel-item::after {content: \"\";width: 100%;border-bottom: 1px solid gray;flex-grow: 1;}#sk-container-id-24 div.sk-label:hover label.sk-toggleable__label {background-color: #d4ebff;}#sk-container-id-24 div.sk-serial::before {content: \"\";position: absolute;border-left: 1px solid gray;box-sizing: border-box;top: 0;bottom: 0;left: 50%;z-index: 0;}#sk-container-id-24 div.sk-serial {display: flex;flex-direction: column;align-items: center;background-color: white;padding-right: 0.2em;padding-left: 0.2em;position: relative;}#sk-container-id-24 div.sk-item {position: relative;z-index: 1;}#sk-container-id-24 div.sk-parallel {display: flex;align-items: stretch;justify-content: center;background-color: white;position: relative;}#sk-container-id-24 div.sk-item::before, #sk-container-id-24 div.sk-parallel-item::before {content: \"\";position: absolute;border-left: 1px solid gray;box-sizing: border-box;top: 0;bottom: 0;left: 50%;z-index: -1;}#sk-container-id-24 div.sk-parallel-item {display: flex;flex-direction: column;z-index: 1;position: relative;background-color: white;}#sk-container-id-24 div.sk-parallel-item:first-child::after {align-self: flex-end;width: 50%;}#sk-container-id-24 div.sk-parallel-item:last-child::after {align-self: flex-start;width: 50%;}#sk-container-id-24 div.sk-parallel-item:only-child::after {width: 0;}#sk-container-id-24 div.sk-dashed-wrapped {border: 1px dashed gray;margin: 0 0.4em 0.5em 0.4em;box-sizing: border-box;padding-bottom: 0.4em;background-color: white;}#sk-container-id-24 div.sk-label label {font-family: monospace;font-weight: bold;display: inline-block;line-height: 1.2em;}#sk-container-id-24 div.sk-label-container {text-align: center;}#sk-container-id-24 div.sk-container {/* jupyter's `normalize.less` sets `[hidden] { display: none; }` but bootstrap.min.css set `[hidden] { display: none !important; }` so we also need the `!important` here to be able to override the default hidden behavior on the sphinx rendered scikit-learn.org. See: https://github.com/scikit-learn/scikit-learn/issues/21755 */display: inline-block !important;position: relative;}#sk-container-id-24 div.sk-text-repr-fallback {display: none;}</style><div id=\"sk-container-id-24\" class=\"sk-top-container\"><div class=\"sk-text-repr-fallback\"><pre>Pipeline(steps=[(&#x27;token_matrix&#x27;, CountVectorizer()),\n",
       "                (&#x27;sparse_to_dense&#x27;,\n",
       "                 FunctionTransformer(accept_sparse=True,\n",
       "                                     func=&lt;function &lt;lambda&gt; at 0x15700dee0&gt;)),\n",
       "                (&#x27;PCA&#x27;, PCA(n_components=15))])</pre><b>In a Jupyter environment, please rerun this cell to show the HTML representation or trust the notebook. <br />On GitHub, the HTML representation is unable to render, please try loading this page with nbviewer.org.</b></div><div class=\"sk-container\" hidden><div class=\"sk-item sk-dashed-wrapped\"><div class=\"sk-label-container\"><div class=\"sk-label sk-toggleable\"><input class=\"sk-toggleable__control sk-hidden--visually\" id=\"sk-estimator-id-71\" type=\"checkbox\" ><label for=\"sk-estimator-id-71\" class=\"sk-toggleable__label sk-toggleable__label-arrow\">Pipeline</label><div class=\"sk-toggleable__content\"><pre>Pipeline(steps=[(&#x27;token_matrix&#x27;, CountVectorizer()),\n",
       "                (&#x27;sparse_to_dense&#x27;,\n",
       "                 FunctionTransformer(accept_sparse=True,\n",
       "                                     func=&lt;function &lt;lambda&gt; at 0x15700dee0&gt;)),\n",
       "                (&#x27;PCA&#x27;, PCA(n_components=15))])</pre></div></div></div><div class=\"sk-serial\"><div class=\"sk-item\"><div class=\"sk-estimator sk-toggleable\"><input class=\"sk-toggleable__control sk-hidden--visually\" id=\"sk-estimator-id-72\" type=\"checkbox\" ><label for=\"sk-estimator-id-72\" class=\"sk-toggleable__label sk-toggleable__label-arrow\">CountVectorizer</label><div class=\"sk-toggleable__content\"><pre>CountVectorizer()</pre></div></div></div><div class=\"sk-item\"><div class=\"sk-estimator sk-toggleable\"><input class=\"sk-toggleable__control sk-hidden--visually\" id=\"sk-estimator-id-73\" type=\"checkbox\" ><label for=\"sk-estimator-id-73\" class=\"sk-toggleable__label sk-toggleable__label-arrow\">FunctionTransformer</label><div class=\"sk-toggleable__content\"><pre>FunctionTransformer(accept_sparse=True, func=&lt;function &lt;lambda&gt; at 0x15700dee0&gt;)</pre></div></div></div><div class=\"sk-item\"><div class=\"sk-estimator sk-toggleable\"><input class=\"sk-toggleable__control sk-hidden--visually\" id=\"sk-estimator-id-74\" type=\"checkbox\" ><label for=\"sk-estimator-id-74\" class=\"sk-toggleable__label sk-toggleable__label-arrow\">PCA</label><div class=\"sk-toggleable__content\"><pre>PCA(n_components=15)</pre></div></div></div></div></div></div></div>"
      ],
      "text/plain": [
       "Pipeline(steps=[('token_matrix', CountVectorizer()),\n",
       "                ('sparse_to_dense',\n",
       "                 FunctionTransformer(accept_sparse=True,\n",
       "                                     func=<function <lambda> at 0x15700dee0>)),\n",
       "                ('PCA', PCA(n_components=15))])"
      ]
     },
     "execution_count": 158,
     "metadata": {},
     "output_type": "execute_result"
    }
   ],
   "source": [
    "text_processing_pipeline"
   ]
  },
  {
   "cell_type": "markdown",
   "id": "59b101f9",
   "metadata": {},
   "source": [
    "**3.** I have used **CountVectorizer** to **extract individual ingredients** from the **ingredients texts for each dish** present in the dataset (**X_train, X_test**); since CountVectorizer returns a **sparse matrix of numerical features**, I have used a **custom Function Transformer to change it in the dense matrix**, then I'm using **PCA to reduce the dimensionality of features from 2826 to 15**. This stage's **output is an array with textual feature representation in numerical format. (X_train_text_features, X_train_text_features)**"
   ]
  },
  {
   "cell_type": "markdown",
   "id": "eac8e6e6",
   "metadata": {},
   "source": [
    "**4.** I'm **combining** both the **image feature obtained in numpy array after image processing and the text feature also obtained in array format after text processing to generate a combined(using a UDF) dataset(X_train_combined, X_test_combined) on which I will build, train and deploy my ML model**."
   ]
  },
  {
   "cell_type": "code",
   "execution_count": 159,
   "id": "906554d2",
   "metadata": {},
   "outputs": [
    {
     "data": {
      "text/html": [
       "<style>#sk-container-id-25 {color: black;background-color: white;}#sk-container-id-25 pre{padding: 0;}#sk-container-id-25 div.sk-toggleable {background-color: white;}#sk-container-id-25 label.sk-toggleable__label {cursor: pointer;display: block;width: 100%;margin-bottom: 0;padding: 0.3em;box-sizing: border-box;text-align: center;}#sk-container-id-25 label.sk-toggleable__label-arrow:before {content: \"▸\";float: left;margin-right: 0.25em;color: #696969;}#sk-container-id-25 label.sk-toggleable__label-arrow:hover:before {color: black;}#sk-container-id-25 div.sk-estimator:hover label.sk-toggleable__label-arrow:before {color: black;}#sk-container-id-25 div.sk-toggleable__content {max-height: 0;max-width: 0;overflow: hidden;text-align: left;background-color: #f0f8ff;}#sk-container-id-25 div.sk-toggleable__content pre {margin: 0.2em;color: black;border-radius: 0.25em;background-color: #f0f8ff;}#sk-container-id-25 input.sk-toggleable__control:checked~div.sk-toggleable__content {max-height: 200px;max-width: 100%;overflow: auto;}#sk-container-id-25 input.sk-toggleable__control:checked~label.sk-toggleable__label-arrow:before {content: \"▾\";}#sk-container-id-25 div.sk-estimator input.sk-toggleable__control:checked~label.sk-toggleable__label {background-color: #d4ebff;}#sk-container-id-25 div.sk-label input.sk-toggleable__control:checked~label.sk-toggleable__label {background-color: #d4ebff;}#sk-container-id-25 input.sk-hidden--visually {border: 0;clip: rect(1px 1px 1px 1px);clip: rect(1px, 1px, 1px, 1px);height: 1px;margin: -1px;overflow: hidden;padding: 0;position: absolute;width: 1px;}#sk-container-id-25 div.sk-estimator {font-family: monospace;background-color: #f0f8ff;border: 1px dotted black;border-radius: 0.25em;box-sizing: border-box;margin-bottom: 0.5em;}#sk-container-id-25 div.sk-estimator:hover {background-color: #d4ebff;}#sk-container-id-25 div.sk-parallel-item::after {content: \"\";width: 100%;border-bottom: 1px solid gray;flex-grow: 1;}#sk-container-id-25 div.sk-label:hover label.sk-toggleable__label {background-color: #d4ebff;}#sk-container-id-25 div.sk-serial::before {content: \"\";position: absolute;border-left: 1px solid gray;box-sizing: border-box;top: 0;bottom: 0;left: 50%;z-index: 0;}#sk-container-id-25 div.sk-serial {display: flex;flex-direction: column;align-items: center;background-color: white;padding-right: 0.2em;padding-left: 0.2em;position: relative;}#sk-container-id-25 div.sk-item {position: relative;z-index: 1;}#sk-container-id-25 div.sk-parallel {display: flex;align-items: stretch;justify-content: center;background-color: white;position: relative;}#sk-container-id-25 div.sk-item::before, #sk-container-id-25 div.sk-parallel-item::before {content: \"\";position: absolute;border-left: 1px solid gray;box-sizing: border-box;top: 0;bottom: 0;left: 50%;z-index: -1;}#sk-container-id-25 div.sk-parallel-item {display: flex;flex-direction: column;z-index: 1;position: relative;background-color: white;}#sk-container-id-25 div.sk-parallel-item:first-child::after {align-self: flex-end;width: 50%;}#sk-container-id-25 div.sk-parallel-item:last-child::after {align-self: flex-start;width: 50%;}#sk-container-id-25 div.sk-parallel-item:only-child::after {width: 0;}#sk-container-id-25 div.sk-dashed-wrapped {border: 1px dashed gray;margin: 0 0.4em 0.5em 0.4em;box-sizing: border-box;padding-bottom: 0.4em;background-color: white;}#sk-container-id-25 div.sk-label label {font-family: monospace;font-weight: bold;display: inline-block;line-height: 1.2em;}#sk-container-id-25 div.sk-label-container {text-align: center;}#sk-container-id-25 div.sk-container {/* jupyter's `normalize.less` sets `[hidden] { display: none; }` but bootstrap.min.css set `[hidden] { display: none !important; }` so we also need the `!important` here to be able to override the default hidden behavior on the sphinx rendered scikit-learn.org. See: https://github.com/scikit-learn/scikit-learn/issues/21755 */display: inline-block !important;position: relative;}#sk-container-id-25 div.sk-text-repr-fallback {display: none;}</style><div id=\"sk-container-id-25\" class=\"sk-top-container\"><div class=\"sk-text-repr-fallback\"><pre>Pipeline(steps=[(&#x27;scalar&#x27;, StandardScaler()),\n",
       "                (&#x27;classifier&#x27;, LogisticRegression(C=0.1))])</pre><b>In a Jupyter environment, please rerun this cell to show the HTML representation or trust the notebook. <br />On GitHub, the HTML representation is unable to render, please try loading this page with nbviewer.org.</b></div><div class=\"sk-container\" hidden><div class=\"sk-item sk-dashed-wrapped\"><div class=\"sk-label-container\"><div class=\"sk-label sk-toggleable\"><input class=\"sk-toggleable__control sk-hidden--visually\" id=\"sk-estimator-id-75\" type=\"checkbox\" ><label for=\"sk-estimator-id-75\" class=\"sk-toggleable__label sk-toggleable__label-arrow\">Pipeline</label><div class=\"sk-toggleable__content\"><pre>Pipeline(steps=[(&#x27;scalar&#x27;, StandardScaler()),\n",
       "                (&#x27;classifier&#x27;, LogisticRegression(C=0.1))])</pre></div></div></div><div class=\"sk-serial\"><div class=\"sk-item\"><div class=\"sk-estimator sk-toggleable\"><input class=\"sk-toggleable__control sk-hidden--visually\" id=\"sk-estimator-id-76\" type=\"checkbox\" ><label for=\"sk-estimator-id-76\" class=\"sk-toggleable__label sk-toggleable__label-arrow\">StandardScaler</label><div class=\"sk-toggleable__content\"><pre>StandardScaler()</pre></div></div></div><div class=\"sk-item\"><div class=\"sk-estimator sk-toggleable\"><input class=\"sk-toggleable__control sk-hidden--visually\" id=\"sk-estimator-id-77\" type=\"checkbox\" ><label for=\"sk-estimator-id-77\" class=\"sk-toggleable__label sk-toggleable__label-arrow\">LogisticRegression</label><div class=\"sk-toggleable__content\"><pre>LogisticRegression(C=0.1)</pre></div></div></div></div></div></div></div>"
      ],
      "text/plain": [
       "Pipeline(steps=[('scalar', StandardScaler()),\n",
       "                ('classifier', LogisticRegression(C=0.1))])"
      ]
     },
     "execution_count": 159,
     "metadata": {},
     "output_type": "execute_result"
    }
   ],
   "source": [
    "pipeline\n"
   ]
  },
  {
   "cell_type": "markdown",
   "id": "635aadb0",
   "metadata": {},
   "source": [
    "**5.** The **X_train_combined, X_test_combined** are scaled to get **normalised values**. Then, I trained the **Random Forest Classifier, Linear Support Vector Classifier and Logistic regression classification model** on this dataset to **predict** the train and test dataset **labels(Y_train, Y_test)**."
   ]
  },
  {
   "cell_type": "markdown",
   "id": "13311274",
   "metadata": {},
   "source": [
    "# 4 Transformation stage"
   ]
  },
  {
   "cell_type": "markdown",
   "id": "a3da8749",
   "metadata": {},
   "source": [
    "The transformation stage is divided in two parts:\\\n",
    "**1. Image Processing Stage**\\\n",
    "**2. Text Processing Stage**"
   ]
  },
  {
   "cell_type": "markdown",
   "id": "d4ba8639",
   "metadata": {},
   "source": [
    "**1.a. Pre-Processing Stage**\n",
    "\n",
    "The main custom function is **pre_processed**, which clubs the pre-processed images in an array and is dependent on the following functions to perform specific tasks:\n",
    "1. **make_it_square**:- used to make the image square by padding it with zeros along the shorter dimension.\n",
    "2. **resize_img**:- use to combine the resize channel(of size 100x100) to the input image to produce the final image\n",
    "3. **image_preprocessing**:- is a master function that makes use of make_it_square, resize_img to carry out transformation on input images and return the final image of size 200x200\n",
    "\n",
    "**1.b.Feature Selection Stage**\n",
    "\n",
    "Since each photo is described by 6x200x200 = 240000 values. Therefore, the predictor space has 240000 dimensions. Since our dataset is small, we are moving our samples from a **240000 dimensions** space to another with **six dimensions** using feature extraction. I'm using two functions, **gabor_features** and **GMLC_features**, that extract six image features that will define a new predictor space. I'm using the feature_extraction function, which combines the features extracted from the below-mentioned function in an array.\\\n",
    "i. **gabor_features**:- it uses the Gabor filter, a linear bandpass filter that does **texture analysis for images projected at a particular theta angle and frequency and attenuates other angles**. **To simplify feature selection**, I'm keeping **frequency constant, considering only the real part of the response and only varying the angle at **0, 45, 90 and 180 degrees** (converted to radian). In the particular selected angles, it converts the image in greyscale and computes the strength of filter response at a particular value of sigma (standard deviation) in 2D. \\\n",
    "ii. **GMLC_features**:- it uses **Grey Level Co-occurrence matrix** computes **two texture features, dissimilarity and co-relation** for a given input image"
   ]
  },
  {
   "cell_type": "markdown",
   "id": "e21bdd8b",
   "metadata": {},
   "source": [
    "2. In the text processing stage, **CountVectorizer** is employed to convert the ingredients of each dish into a **sparse matrix**, where each **unique token corresponds to a column and represents a unique ingredient from the list of ingredients for each dish**. The result of CountVectorizer is a sparse matrix of **dimension (2275, 2826)**, as **observed feature columns are greater than the data row**, which will lead to the **overfitting of our model**. To avoid the situation, I have used **PCA(Principal Component Analysis) to reduce the dimension of features to 15**. Since the input format to the PCA module is a **dense matrix**, I have used a **custom function to convert the sparse matrix output of CountVectorizer to the dense matrix**."
   ]
  },
  {
   "cell_type": "markdown",
   "id": "e3c8e51e",
   "metadata": {},
   "source": [
    "# 5 Modelling\n",
    "\n",
    "I have used three classification models: **RandomClassifier, Linaer SVC and Logistic Regression**; the reason is to **generate a benchmark result based on the selected feature parameters (both image and text combined)** generated in the Transformation step and **define which model is suitable to be used on the dataset and which gives the optimal result**. For tunning the Hyperparameters of these models, **as the data size is not very large, using large hyperparameters will make the model complex and increase computation requirements and likely to overfit the training data**, so by using the hit and trial method, I tweaked the **model parameter for better result, avoiding overfitting**."
   ]
  },
  {
   "cell_type": "markdown",
   "id": "25232254",
   "metadata": {},
   "source": [
    "# 6 Methodology\n",
    "\n",
    "After splitting the data in the train-test set, I'm passing the paths of the stored images in X_train_paths, X_test_paths and the modified text data in X_train, X_test (obtained from TrainSet, TestSet) to the **image_processing_pipeline** and **image_processing_pipeline** respectively. These pipelines convert the image and text features into a dimensionally reduced numpy array of their equivalent numerical features(stored in **X_train_image_features, X_test_image_features, X_train_text_features, X_test_text_features** respectively). These features are combined to generate a single array of features **X_train_combined, X_test_combined**; the **X_train_combined datset** is used to **train the ML models**; the trained ML models are then used to make a **prediction** on **X_test_combined dataset**, whether the dish contains common food allergens or not. The benchmarks used for the performance analysis of the models are:\n",
    "\n",
    "1. **Accuracy**\n",
    "2. **Confusion Matrix**\n"
   ]
  },
  {
   "cell_type": "code",
   "execution_count": 1,
   "id": "d2125066",
   "metadata": {},
   "outputs": [
    {
     "name": "stdout",
     "output_type": "stream",
     "text": [
      "Requirement already satisfied: mlend in /Users/ankuranurag/anaconda3/lib/python3.11/site-packages (1.0.0.3)\n",
      "Requirement already satisfied: numpy>1.8 in /Users/ankuranurag/anaconda3/lib/python3.11/site-packages (from mlend) (1.24.3)\n",
      "Requirement already satisfied: pandas in /Users/ankuranurag/anaconda3/lib/python3.11/site-packages (from mlend) (1.5.3)\n",
      "Requirement already satisfied: scipy in /Users/ankuranurag/anaconda3/lib/python3.11/site-packages (from mlend) (1.10.1)\n",
      "Requirement already satisfied: matplotlib in /Users/ankuranurag/anaconda3/lib/python3.11/site-packages (from mlend) (3.7.1)\n",
      "Requirement already satisfied: joblib in /Users/ankuranurag/anaconda3/lib/python3.11/site-packages (from mlend) (1.2.0)\n",
      "Requirement already satisfied: spkit>0.0.9.5 in /Users/ankuranurag/anaconda3/lib/python3.11/site-packages (from mlend) (0.0.9.6.7)\n",
      "Requirement already satisfied: scikit-learn in /Users/ankuranurag/anaconda3/lib/python3.11/site-packages (from spkit>0.0.9.5->mlend) (1.2.2)\n",
      "Requirement already satisfied: python-picard in /Users/ankuranurag/anaconda3/lib/python3.11/site-packages (from spkit>0.0.9.5->mlend) (0.7)\n",
      "Requirement already satisfied: PyWavelets in /Users/ankuranurag/anaconda3/lib/python3.11/site-packages (from spkit>0.0.9.5->mlend) (1.4.1)\n",
      "Requirement already satisfied: pylfsr in /Users/ankuranurag/anaconda3/lib/python3.11/site-packages (from spkit>0.0.9.5->mlend) (1.0.7)\n",
      "Requirement already satisfied: h5py in /Users/ankuranurag/anaconda3/lib/python3.11/site-packages (from spkit>0.0.9.5->mlend) (3.7.0)\n",
      "Requirement already satisfied: seaborn in /Users/ankuranurag/anaconda3/lib/python3.11/site-packages (from spkit>0.0.9.5->mlend) (0.12.2)\n",
      "Requirement already satisfied: phyaat in /Users/ankuranurag/anaconda3/lib/python3.11/site-packages (from spkit>0.0.9.5->mlend) (0.0.3)\n",
      "Requirement already satisfied: contourpy>=1.0.1 in /Users/ankuranurag/anaconda3/lib/python3.11/site-packages (from matplotlib->mlend) (1.0.5)\n",
      "Requirement already satisfied: cycler>=0.10 in /Users/ankuranurag/anaconda3/lib/python3.11/site-packages (from matplotlib->mlend) (0.11.0)\n",
      "Requirement already satisfied: fonttools>=4.22.0 in /Users/ankuranurag/anaconda3/lib/python3.11/site-packages (from matplotlib->mlend) (4.25.0)\n",
      "Requirement already satisfied: kiwisolver>=1.0.1 in /Users/ankuranurag/anaconda3/lib/python3.11/site-packages (from matplotlib->mlend) (1.4.4)\n",
      "Requirement already satisfied: packaging>=20.0 in /Users/ankuranurag/anaconda3/lib/python3.11/site-packages (from matplotlib->mlend) (23.0)\n",
      "Requirement already satisfied: pillow>=6.2.0 in /Users/ankuranurag/anaconda3/lib/python3.11/site-packages (from matplotlib->mlend) (9.4.0)\n",
      "Requirement already satisfied: pyparsing>=2.3.1 in /Users/ankuranurag/anaconda3/lib/python3.11/site-packages (from matplotlib->mlend) (3.0.9)\n",
      "Requirement already satisfied: python-dateutil>=2.7 in /Users/ankuranurag/anaconda3/lib/python3.11/site-packages (from matplotlib->mlend) (2.8.2)\n",
      "Requirement already satisfied: pytz>=2020.1 in /Users/ankuranurag/anaconda3/lib/python3.11/site-packages (from pandas->mlend) (2022.7)\n",
      "Requirement already satisfied: six>=1.5 in /Users/ankuranurag/anaconda3/lib/python3.11/site-packages (from python-dateutil>=2.7->matplotlib->mlend) (1.16.0)\n",
      "Requirement already satisfied: numexpr in /Users/ankuranurag/anaconda3/lib/python3.11/site-packages (from python-picard->spkit>0.0.9.5->mlend) (2.8.4)\n",
      "Requirement already satisfied: threadpoolctl>=2.0.0 in /Users/ankuranurag/anaconda3/lib/python3.11/site-packages (from scikit-learn->spkit>0.0.9.5->mlend) (2.2.0)\n",
      "Note: you may need to restart the kernel to use updated packages.\n"
     ]
    }
   ],
   "source": [
    "pip install mlend --upgrade"
   ]
  },
  {
   "cell_type": "code",
   "execution_count": 2,
   "id": "51852bad",
   "metadata": {},
   "outputs": [],
   "source": [
    "# necessary import\n",
    "import mlend\n",
    "from mlend import download_yummy, yummy_load\n",
    "\n",
    "import numpy as np\n",
    "import pandas as pd\n",
    "import matplotlib.pyplot as plt\n",
    "\n",
    "import skimage as ski\n",
    "import spkit as sp\n",
    "\n",
    "import os, glob\n",
    "import re\n",
    "import warnings\n",
    "warnings.filterwarnings('ignore')"
   ]
  },
  {
   "cell_type": "code",
   "execution_count": 58,
   "id": "8cfeec3c",
   "metadata": {},
   "outputs": [],
   "source": [
    "# sklearn library imports\n",
    "from sklearn.linear_model import LogisticRegression\n",
    "from sklearn.metrics import classification_report\n",
    "from skimage.feature import ORB\n",
    "from skimage.feature import graycomatrix, graycoprops\n",
    "from sklearn.preprocessing import FunctionTransformer, StandardScaler, LabelEncoder\n",
    "from sklearn.decomposition import PCA\n",
    "from sklearn.feature_extraction.text import CountVectorizer\n",
    "from skimage.color import rgb2hsv, rgb2gray\n",
    "from sklearn.svm import LinearSVC\n",
    "from sklearn.ensemble import RandomForestClassifier\n",
    "from sklearn.pipeline import Pipeline, make_pipeline\n",
    "from sklearn import set_config\n",
    "set_config(display = 'diagram')"
   ]
  },
  {
   "cell_type": "markdown",
   "id": "05838fd2",
   "metadata": {},
   "source": [
    "# 7 Dataset\n",
    "\n",
    "The following steps are involved in the data pre-processing:\n",
    "1. I downloaded the data from the MLEnd yummy git repository and **stored the csv and images separately**\n",
    "2. I created a function named **check_allergens**, which searches for the list of allergens mentioned in it with each dish's ingredients text; if it finds a match, it labels that dish as **\"contains_allergen\"** otherwise, it labels then as **\"doesnot_contains_allergen\"**\n",
    "3. Using the custom function train_test, I **split** the data in **TrainSet TestSet** using the **Benchmark_A column as my split criteria**.\n",
    "4. **Separated** the **image path** for both **TrainSet and TestSet** and **stored** it in **X_train_paths, X_test_paths** and **created a separate data frame X_train, X_test for text features like Ingredients and Dish_name.\n",
    "5. Created a **new column, \"allergens\"**, which **contains contains_allergen/doesnot_contains_allergen labels derived from the Ingredients column** using the **function check_allergens**\n",
    "6. Created **Y_train and Y_test encoded labels from the \"allergens\" (0 -\"contains_allergens\" and 1-\"doesnot_contains_allergen\") column to benchmark the performance of the trained ML models**.\n",
    "7. Plotted **histogram** to show **how many dishes contain food allergens in both the Train and Test dataset**."
   ]
  },
  {
   "cell_type": "code",
   "execution_count": 51,
   "id": "48205029",
   "metadata": {},
   "outputs": [],
   "source": [
    "# downloading the entire yummy dataset\n",
    "subset = {}\n",
    "\n",
    "datadir = download_yummy(save_to = './MLEnd', subset = subset,verbose=1,overwrite=False)"
   ]
  },
  {
   "cell_type": "code",
   "execution_count": 4,
   "id": "a788c4a7",
   "metadata": {},
   "outputs": [],
   "source": [
    "# reading the csv and image path\n",
    "MLENDYD_df = pd.read_csv('/MLEnd/yummy/MLEndYD_image_attributes_benchmark.csv').set_index('filename')\n",
    "sample_path = '/MLEnd/yummy/MLEndYD_images/*.jpg'\n",
    "files = glob.glob(sample_path)"
   ]
  },
  {
   "cell_type": "code",
   "execution_count": 52,
   "id": "444744f2",
   "metadata": {},
   "outputs": [
    {
     "data": {
      "text/plain": [
       "['MLEndYD_image_attributes_benchmark.csv',\n",
       " '.DS_Store',\n",
       " 'MLEndYD_images',\n",
       " 'MLEndYD_image_attributes_small.csv',\n",
       " 'MLEndYD_images_small']"
      ]
     },
     "execution_count": 52,
     "metadata": {},
     "output_type": "execute_result"
    }
   ],
   "source": [
    "# list of dir\n",
    "os.listdir(datadir)"
   ]
  },
  {
   "cell_type": "code",
   "execution_count": 9,
   "id": "072a6e7a",
   "metadata": {},
   "outputs": [],
   "source": [
    "# udf for splitting train test data on basis of column 'Benchmark_A'\n",
    "def train_test (datadir):\n",
    "  return yummy_load(datadir_main=datadir,train_test_split='Benchmark_A')"
   ]
  },
  {
   "cell_type": "code",
   "execution_count": 79,
   "id": "6b9d150a",
   "metadata": {},
   "outputs": [],
   "source": [
    "# udf for extracting food ingredient which are considered as allergens and assigning them common label 'contains_allergen' and other ingredients as 'doesnot_contains_allergen'\n",
    "def check_allergens(ingredient):\n",
    "    allergens = ['milk', 'egg', 'peas', 'peanut', 'soy', 'fish', 'mustard', 'wheat', 'almonds', 'cashews','oats','bread']\n",
    "    for allergen in allergens:\n",
    "        match = re.compile(fr'\\b{re.escape(allergen)}(?:\\b|[_,])')\n",
    "        if re.search(match,ingredient):\n",
    "            return \"contains_allergen\"\n",
    "    return \"doesnot_contains_allergen\""
   ]
  },
  {
   "cell_type": "code",
   "execution_count": 80,
   "id": "8cde9486",
   "metadata": {},
   "outputs": [
    {
     "name": "stdout",
     "output_type": "stream",
     "text": [
      "Total 3250 found in /Users/ankuranurag/Desktop/MLEnd/yummy/MLEndYD_images/\n"
     ]
    }
   ],
   "source": [
    "# splitting the dataset using train_test function, splitting criteria based on column Benchmark_A\n",
    "TrainSet, TestSet, Map = train_test(datadir)\n",
    "\n",
    "# seperating the image paths and the text features in different variables\n",
    "X_train_paths, X_train = TrainSet['X_paths'],TrainSet['Y'][['Ingredients','Dish_name']]\n",
    "X_test_paths, X_test = TestSet['X_paths'],TestSet['Y'][['Ingredients','Dish_name']]\n",
    "\n",
    "# creating new column in X_train, X_test using the check_allergens function\n",
    "X_train['allergens'] = X_train['Ingredients'].apply(check_allergens)\n",
    "X_test['allergens'] = X_test['Ingredients'].apply(check_allergens)"
   ]
  },
  {
   "cell_type": "code",
   "execution_count": 82,
   "id": "c13ff9e0",
   "metadata": {},
   "outputs": [],
   "source": [
    "# creating a label encoder instance\n",
    "le = LabelEncoder()"
   ]
  },
  {
   "cell_type": "code",
   "execution_count": 83,
   "id": "4ef794d6",
   "metadata": {},
   "outputs": [],
   "source": [
    "# creating encoded labels for train, test dataset\n",
    "Y_train = le.fit_transform(X_train['allergens'])\n",
    "Y_test = le.transform(X_test['allergens'])"
   ]
  },
  {
   "cell_type": "code",
   "execution_count": 81,
   "id": "a4db21fd",
   "metadata": {},
   "outputs": [
    {
     "data": {
      "text/plain": [
       "doesnot_contains_allergen    1498\n",
       "contains_allergen             777\n",
       "Name: allergens, dtype: int64"
      ]
     },
     "execution_count": 81,
     "metadata": {},
     "output_type": "execute_result"
    }
   ],
   "source": [
    "# checking value counts based on created category\n",
    "X_train['allergens'].value_counts()"
   ]
  },
  {
   "cell_type": "code",
   "execution_count": 91,
   "id": "ff8f4f34",
   "metadata": {},
   "outputs": [
    {
     "data": {
      "image/png": "[encoded data removed]",
      "text/plain": [
       "<Figure size 1200x700 with 2 Axes>"
      ]
     },
     "metadata": {},
     "output_type": "display_data"
    }
   ],
   "source": [
    "# plot showing dishes with and without allergen ingredients in train and test dataset\n",
    "fig, axes = plt.subplots(nrows=1, ncols=2, figsize=(12, 7), sharex=True, sharey=True)\n",
    "axes[0].hist(X_train['allergens'], bins = 2, edgecolor='black', alpha=0.7)\n",
    "axes[0].set_title('dishes in Train dataset')\n",
    "axes[0].set_xlabel('dish category')\n",
    "axes[0].set_ylabel('frequency')\n",
    "\n",
    "axes[1].hist(X_test['allergens'], bins = 2, edgecolor='black', alpha=0.7)\n",
    "axes[1].set_title('dishes in Test dataset')\n",
    "axes[1].set_xlabel('dish category')\n",
    "axes[1].set_ylabel('frequency')\n",
    "plt.show()"
   ]
  },
  {
   "cell_type": "markdown",
   "id": "d601f0c6",
   "metadata": {},
   "source": [
    "### Transformation Stage\n",
    "\n",
    "### Image processing stage \n",
    "**a. Pre Processing Stage**"
   ]
  },
  {
   "cell_type": "code",
   "execution_count": 14,
   "id": "344e5bc4",
   "metadata": {},
   "outputs": [],
   "source": [
    "# udf for making the images square using padding\n",
    "def make_it_square(I, pad=0):\n",
    "  N,M,C = I.shape\n",
    "  if N>M:\n",
    "    Is = [np.pad(I[:,:,i], [(0,0),(0, N-M)], 'constant', constant_values=pad) for i in range(C)]\n",
    "  else:\n",
    "    Is = [np.pad(I[:,:,i], [(0, M-N),(0,0)], 'constant', constant_values=pad) for i in range(C)]\n",
    "\n",
    "  return np.array(Is).transpose([1,2,0])"
   ]
  },
  {
   "cell_type": "code",
   "execution_count": 15,
   "id": "f6dc864e",
   "metadata": {},
   "outputs": [],
   "source": [
    "# udf for resizing the image\n",
    "def resize_img(I,size=[100,100]):\n",
    "  N,M,C = I.shape\n",
    "  Ir = [sp.core.processing.resize(I[:,:,i],size) for i in range(C)]\n",
    "  return np.array(Ir).transpose([1,2,0])"
   ]
  },
  {
   "cell_type": "code",
   "execution_count": 16,
   "id": "1243ed3e",
   "metadata": {},
   "outputs": [],
   "source": [
    "# udf for image preprocessing\n",
    "def image_preprocessing (file, k, length):\n",
    "  sp.utils.ProgBar_JL(k, length,L=50,color='blue')\n",
    "  I = plt.imread(file)\n",
    "  I = make_it_square(I, pad=0)\n",
    "  I = resize_img(I,size=[200,200])\n",
    "  return I"
   ]
  },
  {
   "cell_type": "code",
   "execution_count": 17,
   "id": "e68ecf21",
   "metadata": {},
   "outputs": [],
   "source": [
    "# udf for generating pre processed X_train, X_test (image)\n",
    "def pre_processed(_paths):\n",
    "  return np.array([image_preprocessing(file, k, len(_paths)) for k,file in enumerate(_paths)])"
   ]
  },
  {
   "cell_type": "markdown",
   "id": "5cdbe1c5",
   "metadata": {},
   "source": [
    "**b.Feature Selection Stage**"
   ]
  },
  {
   "cell_type": "code",
   "execution_count": 18,
   "id": "2ca4b783",
   "metadata": {},
   "outputs": [],
   "source": [
    "# udf for selecting feature using Gabor filters returns 4 features one for each thetas defined in the function\n",
    "def gabor_features(I):\n",
    "    Ig = rgb2gray(I)\n",
    "    features = []\n",
    "    thetas = [0, np.pi*0.25, np.pi*0.5, np.pi]\n",
    "    for theta in thetas:\n",
    "        real_part, img_part = ski.filters.gabor(Ig, frequency=1, theta = theta, sigma_x=10, sigma_y=10)\n",
    "        features.append(np.mean(real_part))\n",
    "    return features"
   ]
  },
  {
   "cell_type": "code",
   "execution_count": 19,
   "id": "b57e4c3e",
   "metadata": {},
   "outputs": [],
   "source": [
    "# udf for getting GMLC features (dissimilarity and corelation)\n",
    "def GMLC_features(I):\n",
    "    Ig = (rgb2gray(I)*255).astype('uint8')\n",
    "    glcm = graycomatrix(Ig, distances=[5], angles=[0], levels=256,\n",
    "                        symmetric=True, normed=True)\n",
    "    f1 = graycoprops(glcm, 'dissimilarity')[0, 0]\n",
    "    f2 = graycoprops(glcm, 'correlation')[0, 0]\n",
    "    return f1,f2"
   ]
  },
  {
   "cell_type": "code",
   "execution_count": 84,
   "id": "a1135386",
   "metadata": {},
   "outputs": [],
   "source": [
    "# udf for creating confusion matrix\n",
    "def showConfMat(CM, labels = ['contains_allergen','doesnot_contains_allergen']):\n",
    "  plt.matshow(CM,cmap='Blues')\n",
    "  for i in range(CM.shape[0]):\n",
    "    for j in range(CM.shape[1]):\n",
    "      plt.text(i,j,CM[i,j].round(2),ha='center',)\n",
    "  plt.xticks([0,1],labels)\n",
    "  plt.yticks([0,1],labels)\n",
    "  plt.show()"
   ]
  },
  {
   "cell_type": "code",
   "execution_count": 21,
   "id": "e417e5cb",
   "metadata": {},
   "outputs": [],
   "source": [
    "# udf for images based feature selection\n",
    "def feature_extraction(data):\n",
    "    return np.array([[*gabor_features(I), *GMLC_features(I)] for I in data])"
   ]
  },
  {
   "cell_type": "code",
   "execution_count": 26,
   "id": "e2281f7a",
   "metadata": {},
   "outputs": [],
   "source": [
    "# creating an image function transformer for the pre_processed function\n",
    "image_preprocessor_transformer = FunctionTransformer(pre_processed, validate= False)"
   ]
  },
  {
   "cell_type": "code",
   "execution_count": 27,
   "id": "7e7510cf",
   "metadata": {},
   "outputs": [],
   "source": [
    "# creating an image function transformer for the feature_extraction function\n",
    "image_feature_selection = FunctionTransformer(feature_extraction, validate= False)"
   ]
  },
  {
   "cell_type": "code",
   "execution_count": 28,
   "id": "165525aa",
   "metadata": {},
   "outputs": [],
   "source": [
    "# combining pre processing and feature selection steps to create pipeline for image processing\n",
    "image_processing_pipeline = Pipeline([\n",
    "    ('image_pre_process', image_preprocessor_transformer),\n",
    "    ('image_feature_selection', image_feature_selection)\n",
    "])"
   ]
  },
  {
   "cell_type": "code",
   "execution_count": 31,
   "id": "f9c688d3",
   "metadata": {},
   "outputs": [
    {
     "name": "stdout",
     "output_type": "stream",
     "text": [
      "100%|\u001b[94m▓▓▓▓▓▓▓▓▓▓▓▓▓▓▓▓▓▓▓▓▓▓▓▓▓▓▓▓▓▓▓▓▓▓▓▓▓▓▓▓▓▓▓▓▓▓▓▓▓▓\u001b[0m|2275\\2275|\n",
      "Done!\n",
      "100%|\u001b[94m▓▓▓▓▓▓▓▓▓▓▓▓▓▓▓▓▓▓▓▓▓▓▓▓▓▓▓▓▓▓▓▓▓▓▓▓▓▓▓▓▓▓▓▓▓▓▓▓▓▓\u001b[0m|975\\975|\n",
      "Done!\n"
     ]
    }
   ],
   "source": [
    "# generating and storing equivalent numerical features of the image features obtained from image processing\n",
    "X_train_image_features = image_processing_pipeline.fit_transform(X_train_paths)\n",
    "X_test_image_features = image_processing_pipeline.transform(X_test_paths)"
   ]
  },
  {
   "cell_type": "markdown",
   "id": "75e0b21b",
   "metadata": {},
   "source": [
    "**The above step runs sequentially for each images will take around an hr for completion**"
   ]
  },
  {
   "cell_type": "markdown",
   "id": "6813aee1",
   "metadata": {},
   "source": [
    "### Text Processing Stage"
   ]
  },
  {
   "cell_type": "code",
   "execution_count": 34,
   "id": "160fa5f1",
   "metadata": {},
   "outputs": [],
   "source": [
    "# creating a CountVectorizer and PCA instances\n",
    "cv = CountVectorizer()\n",
    "pca = PCA(n_components=15)"
   ]
  },
  {
   "cell_type": "code",
   "execution_count": 37,
   "id": "66b9b811",
   "metadata": {},
   "outputs": [],
   "source": [
    "# combining vectorization, matrix conversion and dimensionality reduction steps to create pipeline for text processing\n",
    "text_processing_pipeline = Pipeline([\n",
    "    ('token_matrix', cv),\n",
    "    ('sparse_to_dense', FunctionTransformer(lambda x:x.toarray(), accept_sparse=True)),\n",
    "    ('PCA', pca)\n",
    "])"
   ]
  },
  {
   "cell_type": "code",
   "execution_count": 38,
   "id": "bcb81d0c",
   "metadata": {},
   "outputs": [],
   "source": [
    "# generating and storing equivalent numerical features of the text features obtained from text processing\n",
    "X_train_text_features = text_processing_pipeline.fit_transform(X_train['Ingredients'])\n",
    "X_test_text_features = text_processing_pipeline.transform(X_test['Ingredients'])"
   ]
  },
  {
   "cell_type": "markdown",
   "id": "2b59098c",
   "metadata": {},
   "source": [
    "### Main Code"
   ]
  },
  {
   "cell_type": "code",
   "execution_count": 43,
   "id": "e1053412",
   "metadata": {},
   "outputs": [],
   "source": [
    "# udf for combining numerical features obtained from image and text processing\n",
    "def combine_features(image_features, text_features):\n",
    "    return np.hstack((image_features, text_features))"
   ]
  },
  {
   "cell_type": "code",
   "execution_count": 44,
   "id": "faa9b65c",
   "metadata": {},
   "outputs": [],
   "source": [
    "# generating combined features\n",
    "X_train_combined = combine_features(X_train_image_features, X_train_text_features)\n",
    "X_test_combined = combine_features(X_test_image_features, X_test_text_features)"
   ]
  },
  {
   "cell_type": "code",
   "execution_count": 45,
   "id": "8fc23d26",
   "metadata": {},
   "outputs": [],
   "source": [
    "# creating a standard scalar instance\n",
    "scalar = StandardScaler()"
   ]
  },
  {
   "cell_type": "markdown",
   "id": "7d79cc66",
   "metadata": {},
   "source": [
    "### Machine Learning Pipelines"
   ]
  },
  {
   "cell_type": "code",
   "execution_count": 108,
   "id": "69acc0f6",
   "metadata": {},
   "outputs": [],
   "source": [
    "# combining normalisation and using Linear SVC model steps to build the pipeline\n",
    "pipeline = Pipeline([\n",
    "    ('scalar', scalar),\n",
    "    ('classifier', LinearSVC(C=0.1))\n",
    "])"
   ]
  },
  {
   "cell_type": "code",
   "execution_count": 150,
   "id": "964e6fb0",
   "metadata": {},
   "outputs": [
    {
     "data": {
      "text/html": [
       "<style>#sk-container-id-21 {color: black;background-color: white;}#sk-container-id-21 pre{padding: 0;}#sk-container-id-21 div.sk-toggleable {background-color: white;}#sk-container-id-21 label.sk-toggleable__label {cursor: pointer;display: block;width: 100%;margin-bottom: 0;padding: 0.3em;box-sizing: border-box;text-align: center;}#sk-container-id-21 label.sk-toggleable__label-arrow:before {content: \"▸\";float: left;margin-right: 0.25em;color: #696969;}#sk-container-id-21 label.sk-toggleable__label-arrow:hover:before {color: black;}#sk-container-id-21 div.sk-estimator:hover label.sk-toggleable__label-arrow:before {color: black;}#sk-container-id-21 div.sk-toggleable__content {max-height: 0;max-width: 0;overflow: hidden;text-align: left;background-color: #f0f8ff;}#sk-container-id-21 div.sk-toggleable__content pre {margin: 0.2em;color: black;border-radius: 0.25em;background-color: #f0f8ff;}#sk-container-id-21 input.sk-toggleable__control:checked~div.sk-toggleable__content {max-height: 200px;max-width: 100%;overflow: auto;}#sk-container-id-21 input.sk-toggleable__control:checked~label.sk-toggleable__label-arrow:before {content: \"▾\";}#sk-container-id-21 div.sk-estimator input.sk-toggleable__control:checked~label.sk-toggleable__label {background-color: #d4ebff;}#sk-container-id-21 div.sk-label input.sk-toggleable__control:checked~label.sk-toggleable__label {background-color: #d4ebff;}#sk-container-id-21 input.sk-hidden--visually {border: 0;clip: rect(1px 1px 1px 1px);clip: rect(1px, 1px, 1px, 1px);height: 1px;margin: -1px;overflow: hidden;padding: 0;position: absolute;width: 1px;}#sk-container-id-21 div.sk-estimator {font-family: monospace;background-color: #f0f8ff;border: 1px dotted black;border-radius: 0.25em;box-sizing: border-box;margin-bottom: 0.5em;}#sk-container-id-21 div.sk-estimator:hover {background-color: #d4ebff;}#sk-container-id-21 div.sk-parallel-item::after {content: \"\";width: 100%;border-bottom: 1px solid gray;flex-grow: 1;}#sk-container-id-21 div.sk-label:hover label.sk-toggleable__label {background-color: #d4ebff;}#sk-container-id-21 div.sk-serial::before {content: \"\";position: absolute;border-left: 1px solid gray;box-sizing: border-box;top: 0;bottom: 0;left: 50%;z-index: 0;}#sk-container-id-21 div.sk-serial {display: flex;flex-direction: column;align-items: center;background-color: white;padding-right: 0.2em;padding-left: 0.2em;position: relative;}#sk-container-id-21 div.sk-item {position: relative;z-index: 1;}#sk-container-id-21 div.sk-parallel {display: flex;align-items: stretch;justify-content: center;background-color: white;position: relative;}#sk-container-id-21 div.sk-item::before, #sk-container-id-21 div.sk-parallel-item::before {content: \"\";position: absolute;border-left: 1px solid gray;box-sizing: border-box;top: 0;bottom: 0;left: 50%;z-index: -1;}#sk-container-id-21 div.sk-parallel-item {display: flex;flex-direction: column;z-index: 1;position: relative;background-color: white;}#sk-container-id-21 div.sk-parallel-item:first-child::after {align-self: flex-end;width: 50%;}#sk-container-id-21 div.sk-parallel-item:last-child::after {align-self: flex-start;width: 50%;}#sk-container-id-21 div.sk-parallel-item:only-child::after {width: 0;}#sk-container-id-21 div.sk-dashed-wrapped {border: 1px dashed gray;margin: 0 0.4em 0.5em 0.4em;box-sizing: border-box;padding-bottom: 0.4em;background-color: white;}#sk-container-id-21 div.sk-label label {font-family: monospace;font-weight: bold;display: inline-block;line-height: 1.2em;}#sk-container-id-21 div.sk-label-container {text-align: center;}#sk-container-id-21 div.sk-container {/* jupyter's `normalize.less` sets `[hidden] { display: none; }` but bootstrap.min.css set `[hidden] { display: none !important; }` so we also need the `!important` here to be able to override the default hidden behavior on the sphinx rendered scikit-learn.org. See: https://github.com/scikit-learn/scikit-learn/issues/21755 */display: inline-block !important;position: relative;}#sk-container-id-21 div.sk-text-repr-fallback {display: none;}</style><div id=\"sk-container-id-21\" class=\"sk-top-container\"><div class=\"sk-text-repr-fallback\"><pre>Pipeline(steps=[(&#x27;scalar&#x27;, StandardScaler()),\n",
       "                (&#x27;classifier&#x27;, LogisticRegression(C=5))])</pre><b>In a Jupyter environment, please rerun this cell to show the HTML representation or trust the notebook. <br />On GitHub, the HTML representation is unable to render, please try loading this page with nbviewer.org.</b></div><div class=\"sk-container\" hidden><div class=\"sk-item sk-dashed-wrapped\"><div class=\"sk-label-container\"><div class=\"sk-label sk-toggleable\"><input class=\"sk-toggleable__control sk-hidden--visually\" id=\"sk-estimator-id-62\" type=\"checkbox\" ><label for=\"sk-estimator-id-62\" class=\"sk-toggleable__label sk-toggleable__label-arrow\">Pipeline</label><div class=\"sk-toggleable__content\"><pre>Pipeline(steps=[(&#x27;scalar&#x27;, StandardScaler()),\n",
       "                (&#x27;classifier&#x27;, LogisticRegression(C=5))])</pre></div></div></div><div class=\"sk-serial\"><div class=\"sk-item\"><div class=\"sk-estimator sk-toggleable\"><input class=\"sk-toggleable__control sk-hidden--visually\" id=\"sk-estimator-id-63\" type=\"checkbox\" ><label for=\"sk-estimator-id-63\" class=\"sk-toggleable__label sk-toggleable__label-arrow\">StandardScaler</label><div class=\"sk-toggleable__content\"><pre>StandardScaler()</pre></div></div></div><div class=\"sk-item\"><div class=\"sk-estimator sk-toggleable\"><input class=\"sk-toggleable__control sk-hidden--visually\" id=\"sk-estimator-id-64\" type=\"checkbox\" ><label for=\"sk-estimator-id-64\" class=\"sk-toggleable__label sk-toggleable__label-arrow\">LogisticRegression</label><div class=\"sk-toggleable__content\"><pre>LogisticRegression(C=5)</pre></div></div></div></div></div></div></div>"
      ],
      "text/plain": [
       "Pipeline(steps=[('scalar', StandardScaler()),\n",
       "                ('classifier', LogisticRegression(C=5))])"
      ]
     },
     "execution_count": 150,
     "metadata": {},
     "output_type": "execute_result"
    }
   ],
   "source": [
    "# fitting the pipeline with training data present at X_train_combined and Y_train labels\n",
    "pipeline.fit(X_train_combined, Y_train)"
   ]
  },
  {
   "cell_type": "code",
   "execution_count": 110,
   "id": "1a22ce46",
   "metadata": {},
   "outputs": [],
   "source": [
    "# testing the model by making prediction of the labels based on the Training data (0 -\"contains_allergens\" and 1-\"doesnot_contains_allergen\")\n",
    "ytp_lsvc = pipeline.predict(X_train_combined)\n",
    "\n",
    "# input to the model the dataset (image and text combined) of the dish whose label is to be predicted (stored in X_test_combined)\n",
    "ysp_lsvc = pipeline.predict(X_test_combined)"
   ]
  },
  {
   "cell_type": "code",
   "execution_count": 111,
   "id": "b9d1376b",
   "metadata": {},
   "outputs": [],
   "source": [
    "# calculating accuracy of the Linear SVC model on both Y_train and Y_test\n",
    "train_accuracy_lsvc = np.mean(ytp_lsvc==Y_train)\n",
    "test_accuracy_lsvc  = np.mean(ysp_lsvc==Y_test)"
   ]
  },
  {
   "cell_type": "code",
   "execution_count": null,
   "id": "1c717405",
   "metadata": {},
   "outputs": [],
   "source": []
  },
  {
   "cell_type": "code",
   "execution_count": 126,
   "id": "20036c2d",
   "metadata": {},
   "outputs": [],
   "source": [
    "# combining normalisation and using Random Forest Classifier model steps to build the pipeline\n",
    "pipeline = Pipeline([\n",
    "    ('scalar', scalar),\n",
    "    ('classifier', RandomForestClassifier(n_estimators=25,max_depth=3, random_state=42))\n",
    "])"
   ]
  },
  {
   "cell_type": "code",
   "execution_count": 149,
   "id": "a6859e7f",
   "metadata": {},
   "outputs": [
    {
     "data": {
      "text/html": [
       "<style>#sk-container-id-20 {color: black;background-color: white;}#sk-container-id-20 pre{padding: 0;}#sk-container-id-20 div.sk-toggleable {background-color: white;}#sk-container-id-20 label.sk-toggleable__label {cursor: pointer;display: block;width: 100%;margin-bottom: 0;padding: 0.3em;box-sizing: border-box;text-align: center;}#sk-container-id-20 label.sk-toggleable__label-arrow:before {content: \"▸\";float: left;margin-right: 0.25em;color: #696969;}#sk-container-id-20 label.sk-toggleable__label-arrow:hover:before {color: black;}#sk-container-id-20 div.sk-estimator:hover label.sk-toggleable__label-arrow:before {color: black;}#sk-container-id-20 div.sk-toggleable__content {max-height: 0;max-width: 0;overflow: hidden;text-align: left;background-color: #f0f8ff;}#sk-container-id-20 div.sk-toggleable__content pre {margin: 0.2em;color: black;border-radius: 0.25em;background-color: #f0f8ff;}#sk-container-id-20 input.sk-toggleable__control:checked~div.sk-toggleable__content {max-height: 200px;max-width: 100%;overflow: auto;}#sk-container-id-20 input.sk-toggleable__control:checked~label.sk-toggleable__label-arrow:before {content: \"▾\";}#sk-container-id-20 div.sk-estimator input.sk-toggleable__control:checked~label.sk-toggleable__label {background-color: #d4ebff;}#sk-container-id-20 div.sk-label input.sk-toggleable__control:checked~label.sk-toggleable__label {background-color: #d4ebff;}#sk-container-id-20 input.sk-hidden--visually {border: 0;clip: rect(1px 1px 1px 1px);clip: rect(1px, 1px, 1px, 1px);height: 1px;margin: -1px;overflow: hidden;padding: 0;position: absolute;width: 1px;}#sk-container-id-20 div.sk-estimator {font-family: monospace;background-color: #f0f8ff;border: 1px dotted black;border-radius: 0.25em;box-sizing: border-box;margin-bottom: 0.5em;}#sk-container-id-20 div.sk-estimator:hover {background-color: #d4ebff;}#sk-container-id-20 div.sk-parallel-item::after {content: \"\";width: 100%;border-bottom: 1px solid gray;flex-grow: 1;}#sk-container-id-20 div.sk-label:hover label.sk-toggleable__label {background-color: #d4ebff;}#sk-container-id-20 div.sk-serial::before {content: \"\";position: absolute;border-left: 1px solid gray;box-sizing: border-box;top: 0;bottom: 0;left: 50%;z-index: 0;}#sk-container-id-20 div.sk-serial {display: flex;flex-direction: column;align-items: center;background-color: white;padding-right: 0.2em;padding-left: 0.2em;position: relative;}#sk-container-id-20 div.sk-item {position: relative;z-index: 1;}#sk-container-id-20 div.sk-parallel {display: flex;align-items: stretch;justify-content: center;background-color: white;position: relative;}#sk-container-id-20 div.sk-item::before, #sk-container-id-20 div.sk-parallel-item::before {content: \"\";position: absolute;border-left: 1px solid gray;box-sizing: border-box;top: 0;bottom: 0;left: 50%;z-index: -1;}#sk-container-id-20 div.sk-parallel-item {display: flex;flex-direction: column;z-index: 1;position: relative;background-color: white;}#sk-container-id-20 div.sk-parallel-item:first-child::after {align-self: flex-end;width: 50%;}#sk-container-id-20 div.sk-parallel-item:last-child::after {align-self: flex-start;width: 50%;}#sk-container-id-20 div.sk-parallel-item:only-child::after {width: 0;}#sk-container-id-20 div.sk-dashed-wrapped {border: 1px dashed gray;margin: 0 0.4em 0.5em 0.4em;box-sizing: border-box;padding-bottom: 0.4em;background-color: white;}#sk-container-id-20 div.sk-label label {font-family: monospace;font-weight: bold;display: inline-block;line-height: 1.2em;}#sk-container-id-20 div.sk-label-container {text-align: center;}#sk-container-id-20 div.sk-container {/* jupyter's `normalize.less` sets `[hidden] { display: none; }` but bootstrap.min.css set `[hidden] { display: none !important; }` so we also need the `!important` here to be able to override the default hidden behavior on the sphinx rendered scikit-learn.org. See: https://github.com/scikit-learn/scikit-learn/issues/21755 */display: inline-block !important;position: relative;}#sk-container-id-20 div.sk-text-repr-fallback {display: none;}</style><div id=\"sk-container-id-20\" class=\"sk-top-container\"><div class=\"sk-text-repr-fallback\"><pre>Pipeline(steps=[(&#x27;scalar&#x27;, StandardScaler()),\n",
       "                (&#x27;classifier&#x27;, LogisticRegression(C=5))])</pre><b>In a Jupyter environment, please rerun this cell to show the HTML representation or trust the notebook. <br />On GitHub, the HTML representation is unable to render, please try loading this page with nbviewer.org.</b></div><div class=\"sk-container\" hidden><div class=\"sk-item sk-dashed-wrapped\"><div class=\"sk-label-container\"><div class=\"sk-label sk-toggleable\"><input class=\"sk-toggleable__control sk-hidden--visually\" id=\"sk-estimator-id-59\" type=\"checkbox\" ><label for=\"sk-estimator-id-59\" class=\"sk-toggleable__label sk-toggleable__label-arrow\">Pipeline</label><div class=\"sk-toggleable__content\"><pre>Pipeline(steps=[(&#x27;scalar&#x27;, StandardScaler()),\n",
       "                (&#x27;classifier&#x27;, LogisticRegression(C=5))])</pre></div></div></div><div class=\"sk-serial\"><div class=\"sk-item\"><div class=\"sk-estimator sk-toggleable\"><input class=\"sk-toggleable__control sk-hidden--visually\" id=\"sk-estimator-id-60\" type=\"checkbox\" ><label for=\"sk-estimator-id-60\" class=\"sk-toggleable__label sk-toggleable__label-arrow\">StandardScaler</label><div class=\"sk-toggleable__content\"><pre>StandardScaler()</pre></div></div></div><div class=\"sk-item\"><div class=\"sk-estimator sk-toggleable\"><input class=\"sk-toggleable__control sk-hidden--visually\" id=\"sk-estimator-id-61\" type=\"checkbox\" ><label for=\"sk-estimator-id-61\" class=\"sk-toggleable__label sk-toggleable__label-arrow\">LogisticRegression</label><div class=\"sk-toggleable__content\"><pre>LogisticRegression(C=5)</pre></div></div></div></div></div></div></div>"
      ],
      "text/plain": [
       "Pipeline(steps=[('scalar', StandardScaler()),\n",
       "                ('classifier', LogisticRegression(C=5))])"
      ]
     },
     "execution_count": 149,
     "metadata": {},
     "output_type": "execute_result"
    }
   ],
   "source": [
    "# fitting the pipeline with training data present at X_train_combined and Y_train labels\n",
    "pipeline.fit(X_train_combined, Y_train)"
   ]
  },
  {
   "cell_type": "code",
   "execution_count": 128,
   "id": "9afe7f37",
   "metadata": {},
   "outputs": [],
   "source": [
    "# testing the model by making prediction of the labels based on the Training data\n",
    "ytp_rf = pipeline.predict(X_train_combined)\n",
    "\n",
    "\n",
    "# input to the model the dataset (image and text combined) of the dish whose label is to be predicted (stored in X_test_combined)\n",
    "ysp_rf = pipeline.predict(X_test_combined)"
   ]
  },
  {
   "cell_type": "code",
   "execution_count": 129,
   "id": "90d26ce9",
   "metadata": {},
   "outputs": [],
   "source": [
    "# calculating accuracy of the RandomForestClassifier model on both Y_train and Y_test\n",
    "train_accuracy_rf = np.mean(ytp_rf==Y_train)\n",
    "test_accuracy_rf  = np.mean(ysp_rf==Y_test)"
   ]
  },
  {
   "cell_type": "code",
   "execution_count": null,
   "id": "1f18bf69",
   "metadata": {},
   "outputs": [],
   "source": []
  },
  {
   "cell_type": "code",
   "execution_count": 151,
   "id": "1eb2e452",
   "metadata": {},
   "outputs": [],
   "source": [
    "# combining normalisation and using Logistic Regression steps to build the pipeline\n",
    "pipeline = Pipeline([\n",
    "    ('scalar', scalar),\n",
    "    ('classifier', LogisticRegression(C=0.1))\n",
    "])"
   ]
  },
  {
   "cell_type": "code",
   "execution_count": 152,
   "id": "5be55cb7",
   "metadata": {},
   "outputs": [
    {
     "data": {
      "text/html": [
       "<style>#sk-container-id-22 {color: black;background-color: white;}#sk-container-id-22 pre{padding: 0;}#sk-container-id-22 div.sk-toggleable {background-color: white;}#sk-container-id-22 label.sk-toggleable__label {cursor: pointer;display: block;width: 100%;margin-bottom: 0;padding: 0.3em;box-sizing: border-box;text-align: center;}#sk-container-id-22 label.sk-toggleable__label-arrow:before {content: \"▸\";float: left;margin-right: 0.25em;color: #696969;}#sk-container-id-22 label.sk-toggleable__label-arrow:hover:before {color: black;}#sk-container-id-22 div.sk-estimator:hover label.sk-toggleable__label-arrow:before {color: black;}#sk-container-id-22 div.sk-toggleable__content {max-height: 0;max-width: 0;overflow: hidden;text-align: left;background-color: #f0f8ff;}#sk-container-id-22 div.sk-toggleable__content pre {margin: 0.2em;color: black;border-radius: 0.25em;background-color: #f0f8ff;}#sk-container-id-22 input.sk-toggleable__control:checked~div.sk-toggleable__content {max-height: 200px;max-width: 100%;overflow: auto;}#sk-container-id-22 input.sk-toggleable__control:checked~label.sk-toggleable__label-arrow:before {content: \"▾\";}#sk-container-id-22 div.sk-estimator input.sk-toggleable__control:checked~label.sk-toggleable__label {background-color: #d4ebff;}#sk-container-id-22 div.sk-label input.sk-toggleable__control:checked~label.sk-toggleable__label {background-color: #d4ebff;}#sk-container-id-22 input.sk-hidden--visually {border: 0;clip: rect(1px 1px 1px 1px);clip: rect(1px, 1px, 1px, 1px);height: 1px;margin: -1px;overflow: hidden;padding: 0;position: absolute;width: 1px;}#sk-container-id-22 div.sk-estimator {font-family: monospace;background-color: #f0f8ff;border: 1px dotted black;border-radius: 0.25em;box-sizing: border-box;margin-bottom: 0.5em;}#sk-container-id-22 div.sk-estimator:hover {background-color: #d4ebff;}#sk-container-id-22 div.sk-parallel-item::after {content: \"\";width: 100%;border-bottom: 1px solid gray;flex-grow: 1;}#sk-container-id-22 div.sk-label:hover label.sk-toggleable__label {background-color: #d4ebff;}#sk-container-id-22 div.sk-serial::before {content: \"\";position: absolute;border-left: 1px solid gray;box-sizing: border-box;top: 0;bottom: 0;left: 50%;z-index: 0;}#sk-container-id-22 div.sk-serial {display: flex;flex-direction: column;align-items: center;background-color: white;padding-right: 0.2em;padding-left: 0.2em;position: relative;}#sk-container-id-22 div.sk-item {position: relative;z-index: 1;}#sk-container-id-22 div.sk-parallel {display: flex;align-items: stretch;justify-content: center;background-color: white;position: relative;}#sk-container-id-22 div.sk-item::before, #sk-container-id-22 div.sk-parallel-item::before {content: \"\";position: absolute;border-left: 1px solid gray;box-sizing: border-box;top: 0;bottom: 0;left: 50%;z-index: -1;}#sk-container-id-22 div.sk-parallel-item {display: flex;flex-direction: column;z-index: 1;position: relative;background-color: white;}#sk-container-id-22 div.sk-parallel-item:first-child::after {align-self: flex-end;width: 50%;}#sk-container-id-22 div.sk-parallel-item:last-child::after {align-self: flex-start;width: 50%;}#sk-container-id-22 div.sk-parallel-item:only-child::after {width: 0;}#sk-container-id-22 div.sk-dashed-wrapped {border: 1px dashed gray;margin: 0 0.4em 0.5em 0.4em;box-sizing: border-box;padding-bottom: 0.4em;background-color: white;}#sk-container-id-22 div.sk-label label {font-family: monospace;font-weight: bold;display: inline-block;line-height: 1.2em;}#sk-container-id-22 div.sk-label-container {text-align: center;}#sk-container-id-22 div.sk-container {/* jupyter's `normalize.less` sets `[hidden] { display: none; }` but bootstrap.min.css set `[hidden] { display: none !important; }` so we also need the `!important` here to be able to override the default hidden behavior on the sphinx rendered scikit-learn.org. See: https://github.com/scikit-learn/scikit-learn/issues/21755 */display: inline-block !important;position: relative;}#sk-container-id-22 div.sk-text-repr-fallback {display: none;}</style><div id=\"sk-container-id-22\" class=\"sk-top-container\"><div class=\"sk-text-repr-fallback\"><pre>Pipeline(steps=[(&#x27;scalar&#x27;, StandardScaler()),\n",
       "                (&#x27;classifier&#x27;, LogisticRegression(C=0.1))])</pre><b>In a Jupyter environment, please rerun this cell to show the HTML representation or trust the notebook. <br />On GitHub, the HTML representation is unable to render, please try loading this page with nbviewer.org.</b></div><div class=\"sk-container\" hidden><div class=\"sk-item sk-dashed-wrapped\"><div class=\"sk-label-container\"><div class=\"sk-label sk-toggleable\"><input class=\"sk-toggleable__control sk-hidden--visually\" id=\"sk-estimator-id-65\" type=\"checkbox\" ><label for=\"sk-estimator-id-65\" class=\"sk-toggleable__label sk-toggleable__label-arrow\">Pipeline</label><div class=\"sk-toggleable__content\"><pre>Pipeline(steps=[(&#x27;scalar&#x27;, StandardScaler()),\n",
       "                (&#x27;classifier&#x27;, LogisticRegression(C=0.1))])</pre></div></div></div><div class=\"sk-serial\"><div class=\"sk-item\"><div class=\"sk-estimator sk-toggleable\"><input class=\"sk-toggleable__control sk-hidden--visually\" id=\"sk-estimator-id-66\" type=\"checkbox\" ><label for=\"sk-estimator-id-66\" class=\"sk-toggleable__label sk-toggleable__label-arrow\">StandardScaler</label><div class=\"sk-toggleable__content\"><pre>StandardScaler()</pre></div></div></div><div class=\"sk-item\"><div class=\"sk-estimator sk-toggleable\"><input class=\"sk-toggleable__control sk-hidden--visually\" id=\"sk-estimator-id-67\" type=\"checkbox\" ><label for=\"sk-estimator-id-67\" class=\"sk-toggleable__label sk-toggleable__label-arrow\">LogisticRegression</label><div class=\"sk-toggleable__content\"><pre>LogisticRegression(C=0.1)</pre></div></div></div></div></div></div></div>"
      ],
      "text/plain": [
       "Pipeline(steps=[('scalar', StandardScaler()),\n",
       "                ('classifier', LogisticRegression(C=0.1))])"
      ]
     },
     "execution_count": 152,
     "metadata": {},
     "output_type": "execute_result"
    }
   ],
   "source": [
    "# fitting the pipeline with training data present at X_train_combined and Y_train labels\n",
    "pipeline.fit(X_train_combined, Y_train)"
   ]
  },
  {
   "cell_type": "code",
   "execution_count": 153,
   "id": "89129e29",
   "metadata": {},
   "outputs": [],
   "source": [
    "# testing the model by making prediction of the labels based on the Training data\n",
    "ytp_lr = pipeline.predict(X_train_combined)\n",
    "\n",
    "\n",
    "# input to the model the dataset (image and text combined) of the dish whose label is to be predicted (stored in X_test_combined)\n",
    "ysp_lr = pipeline.predict(X_test_combined)"
   ]
  },
  {
   "cell_type": "code",
   "execution_count": 154,
   "id": "090648be",
   "metadata": {},
   "outputs": [],
   "source": [
    "# calculating accuracy of the Logistic Regression model on both Y_train and Y_test \n",
    "train_accuracy_lr = np.mean(ytp_lr==Y_train)\n",
    "test_accuracy_lr  = np.mean(ysp_lr==Y_test)"
   ]
  },
  {
   "cell_type": "markdown",
   "id": "8bf245a1",
   "metadata": {},
   "source": [
    "# 8 Results"
   ]
  },
  {
   "cell_type": "markdown",
   "id": "325460c2",
   "metadata": {},
   "source": [
    "**1. LinearSVC**:- I selected LinearSVC model with the regularisation/trade-off parameter(c) set to 0.1, as for higher parametric hyperparameter values of 1, 10 and 20, the trend indicated that the accuracy test data set was slightly higher (by1-2%) than the accuracy of training data (75%) it can be due to non-sync between processed training data and the algorithm of the model or may be due to the size of the dataset. Since the dataset is not very large, using a small value of c gives a simpler decision boundary."
   ]
  },
  {
   "cell_type": "markdown",
   "id": "adcba11c",
   "metadata": {},
   "source": [
    "Accuracy Result of the Model"
   ]
  },
  {
   "cell_type": "code",
   "execution_count": 113,
   "id": "9bfe2186",
   "metadata": {},
   "outputs": [
    {
     "name": "stdout",
     "output_type": "stream",
     "text": [
      "Training Accuracy:\t 0.7630769230769231\n",
      "Test  Accuracy:\t 0.7661538461538462\n"
     ]
    }
   ],
   "source": [
    "print('Training Accuracy:\\t',train_accuracy_lsvc )\n",
    "print('Test  Accuracy:\\t',test_accuracy_lsvc)"
   ]
  },
  {
   "cell_type": "markdown",
   "id": "b4ff768a",
   "metadata": {},
   "source": [
    "Confusion Matrix to observe the per-class accuracies"
   ]
  },
  {
   "cell_type": "code",
   "execution_count": 114,
   "id": "99aab40c",
   "metadata": {},
   "outputs": [
    {
     "data": {
      "image/png": "[encoded data removed]",
      "text/plain": [
       "<Figure size 480x480 with 1 Axes>"
      ]
     },
     "metadata": {},
     "output_type": "display_data"
    }
   ],
   "source": [
    "Ac = np.mean(ysp_lsvc[Y_test.astype(int)==0]==0)\n",
    "Ar = np.mean(ysp_lsvc[Y_test.astype(int)==1]==1)\n",
    "\n",
    "Mc = np.mean(ysp_lsvc[Y_test.astype(int)==0]==1)\n",
    "Mr = np.mean(ysp_lsvc[Y_test.astype(int)==1]==0)\n",
    "\n",
    "CM = np.array([[Ac, Mc],[Mr, Ar]])\n",
    "\n",
    "showConfMat(CM)"
   ]
  },
  {
   "cell_type": "markdown",
   "id": "088bcbb0",
   "metadata": {},
   "source": [
    "**Observation**\n",
    "\n",
    "1. The model can predict whether a new image of the dish contains an allergen ingredient or not with 76.6% accuracy\n",
    "2. The model can identify actual food allergens present with a recall of 40%, while it identifies actual dish which doesn't contain any common food allergen with a recall of 95%"
   ]
  },
  {
   "cell_type": "code",
   "execution_count": null,
   "id": "b57705b4",
   "metadata": {},
   "outputs": [],
   "source": []
  },
  {
   "cell_type": "markdown",
   "id": "56ab6555",
   "metadata": {},
   "source": [
    "**2. RandomForestClassifier**:- I selected the number of individual decision trees (estimators) as 25 as after 25 trees, there was not any significant improvement in the label prediction (contains allergens or doesnot contains allergens) on both the train and test data which remained around 77% and 76% respectively. Similar was the scenario with the number of levels (depth) of each decision tree. Upon increasing the depth from 3, no significant improvement was observed. Initially, I tried with 15 decision trees and kept the depth at 3; the accuracy on the train dataset was around 75%, and that of the test dataset was 74%."
   ]
  },
  {
   "cell_type": "markdown",
   "id": "addb8ef8",
   "metadata": {},
   "source": [
    "Accuracy Result of the Model"
   ]
  },
  {
   "cell_type": "code",
   "execution_count": 130,
   "id": "e62c331f",
   "metadata": {},
   "outputs": [
    {
     "name": "stdout",
     "output_type": "stream",
     "text": [
      "Training Accuracy:\t 0.7613186813186813\n",
      "Test  Accuracy:\t 0.7569230769230769\n"
     ]
    }
   ],
   "source": [
    "print('Training Accuracy:\\t',train_accuracy_rf )\n",
    "print('Test  Accuracy:\\t',test_accuracy_rf)"
   ]
  },
  {
   "cell_type": "markdown",
   "id": "699caaa4",
   "metadata": {},
   "source": [
    "Confusion Matrix to observe the per-class accuracies"
   ]
  },
  {
   "cell_type": "code",
   "execution_count": 131,
   "id": "4479748d",
   "metadata": {},
   "outputs": [
    {
     "data": {
      "image/png": "[encoded data removed]",
      "text/plain": [
       "<Figure size 480x480 with 1 Axes>"
      ]
     },
     "metadata": {},
     "output_type": "display_data"
    }
   ],
   "source": [
    "Ac = np.mean(ysp_rf[Y_test.astype(int)==0]==0)\n",
    "Ar = np.mean(ysp_rf[Y_test.astype(int)==1]==1)\n",
    "\n",
    "Mc = np.mean(ysp_rf[Y_test.astype(int)==0]==1)\n",
    "Mr = np.mean(ysp_rf[Y_test.astype(int)==1]==0)\n",
    "\n",
    "CM = np.array([[Ac, Mc],[Mr, Ar]])\n",
    "\n",
    "showConfMat(CM)"
   ]
  },
  {
   "cell_type": "markdown",
   "id": "95852385",
   "metadata": {},
   "source": [
    "**Observation**\n",
    "\n",
    "1. The model can predict whether a new image of the dish contains an allergen ingredient or not with 75.6% accuracy\n",
    "2. The model can identify actual food allergens present with a recall of 27%, while it identifies actual dish which doesn't contain any common food allergen with a recall of 100%\n",
    "3. Looking at the confusion matrix, it can be observed that the model is labelling dishes with no common food allergens as containing food allergens more frequently (0.73)"
   ]
  },
  {
   "cell_type": "code",
   "execution_count": null,
   "id": "51fcf424",
   "metadata": {},
   "outputs": [],
   "source": []
  },
  {
   "cell_type": "markdown",
   "id": "45b8fdde",
   "metadata": {},
   "source": [
    "**3. LogisticRegression**:- For LogisticRegression, I have used the values of the inverse of the regularization strength parameter (c) as 0.1, 1, and 10; the trend of the result obtained is similar to the results obtained from the Linear LVC model, test set accuracy is slightly greater than train set accuracy, this can be due to the size of the dataset as a small number of data points are available for training the model."
   ]
  },
  {
   "cell_type": "markdown",
   "id": "a31fbe97",
   "metadata": {},
   "source": [
    "Accuracy Result of the Model"
   ]
  },
  {
   "cell_type": "code",
   "execution_count": 155,
   "id": "a20f3261",
   "metadata": {},
   "outputs": [
    {
     "name": "stdout",
     "output_type": "stream",
     "text": [
      "Training Accuracy:\t 0.7608791208791209\n",
      "Test  Accuracy:\t 0.7651282051282051\n"
     ]
    }
   ],
   "source": [
    "print('Training Accuracy:\\t',train_accuracy_lr)\n",
    "print('Test  Accuracy:\\t',test_accuracy_lr)"
   ]
  },
  {
   "cell_type": "markdown",
   "id": "9d803c1d",
   "metadata": {},
   "source": [
    "Confusion Matrix to observe the per-class accuracies"
   ]
  },
  {
   "cell_type": "code",
   "execution_count": 156,
   "id": "3604901f",
   "metadata": {},
   "outputs": [
    {
     "data": {
      "image/png": "[encoded data removed]",
      "text/plain": [
       "<Figure size 480x480 with 1 Axes>"
      ]
     },
     "metadata": {},
     "output_type": "display_data"
    }
   ],
   "source": [
    "Ac = np.mean(ysp_lr[Y_test.astype(int)==0]==0)\n",
    "Ar = np.mean(ysp_lr[Y_test.astype(int)==1]==1)\n",
    "\n",
    "Mc = np.mean(ysp_lr[Y_test.astype(int)==0]==1)\n",
    "Mr = np.mean(ysp_lr[Y_test.astype(int)==1]==0)\n",
    "\n",
    "CM = np.array([[Ac, Mc],[Mr, Ar]])\n",
    "\n",
    "showConfMat(CM)"
   ]
  },
  {
   "cell_type": "markdown",
   "id": "1d85b1b7",
   "metadata": {},
   "source": [
    "**Observation**\n",
    "\n",
    "1. The model can predict whether a new image of the dish contains an allergen ingredient or not with 76.5% accuracy\n",
    "2. The model can identify actual food allergens present with a recall of 41%, while it identifies actual dish which doesn't contain any common food allergen with a recall of 94%"
   ]
  },
  {
   "cell_type": "markdown",
   "id": "63c7bf7b",
   "metadata": {},
   "source": [
    "# 9 Conclusions"
   ]
  },
  {
   "cell_type": "markdown",
   "id": "77b90784",
   "metadata": {},
   "source": [
    "1. Of all the models trained,Linear SVC and LogisticRegression Model produced similar results. Random Forest Classifier has a 100% recall for dishes that don't contain any food allergens. I'm using 21 featured (6 images, 15 text) datasets in all three models to carry out my predictions.Also, for all the three models percentage of dishes tag as doesnot_contain_allergens but they actually do is very minimal.\n",
    "\n",
    "2. Increasing the image features dimension increases the accuracy on the whole training and test dataset significantly; for example, initially, I considered 3 features in Gabor filter by taking 3 values of thetas(0,90,180) for image feature extraction, for the Random Forest models accuracy came around 65% on train set and 60% on test set but when I increased the features in Gabor filter to 4 (thetas 0,45,90,180) the accuracy came around 76 and 75 on the train and test data respectively for the same model.\n",
    "\n",
    "3. I can adjust the strength of the filter response (magnitude) of the Gabor Filter by varying the sigma value (standard deviation) in 2D; this adjustment depends upon the size of the feature to be extracted. If the feature size is small, sigma's will be small and vice versa. In my case, I used sigma values(x,y) of 15 as my feature size was large in the Rice/chips pipeline, but here, I need to find individual ingredients for my model to classify them as food allergens or not; I got the optimal result for sigma values of 10 as it gives me a slightly narrower Gaussian envelope to detect the slight variation in the features of the train, test dataset.\n",
    "\n",
    "4. The dataset is highly biased (below code) as it contains more dishes that don't contain any allergens than those which contain allergens; an unbiased dataset would have produced better recall for the latter."
   ]
  },
  {
   "cell_type": "code",
   "execution_count": 160,
   "id": "ab6b3824",
   "metadata": {},
   "outputs": [
    {
     "data": {
      "text/plain": [
       "doesnot_contains_allergen    1498\n",
       "contains_allergen             777\n",
       "Name: allergens, dtype: int64"
      ]
     },
     "execution_count": 160,
     "metadata": {},
     "output_type": "execute_result"
    }
   ],
   "source": [
    "# checking value counts based on created category\n",
    "X_train['allergens'].value_counts()"
   ]
  },
  {
   "cell_type": "code",
   "execution_count": null,
   "id": "deef3e3c",
   "metadata": {},
   "outputs": [],
   "source": []
  }
 ],
 "metadata": {
  "kernelspec": {
   "display_name": "Python 3 (ipykernel)",
   "language": "python",
   "name": "python3"
  },
  "language_info": {
   "codemirror_mode": {
    "name": "ipython",
    "version": 3
   },
   "file_extension": ".py",
   "mimetype": "text/x-python",
   "name": "python",
   "nbconvert_exporter": "python",
   "pygments_lexer": "ipython3",
   "version": "3.11.3"
  }
 },
 "nbformat": 4,
 "nbformat_minor": 5
}
